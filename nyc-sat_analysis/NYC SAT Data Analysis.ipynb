{
 "cells": [
  {
   "cell_type": "markdown",
   "metadata": {},
   "source": [
    "# Looking into the SAT data of New York schools\n",
    "This project is built based on the DataQuest article of the series Building a Data Science Portfolio: [Storytelling with Data](https://www.dataquest.io/blog/data-science-portfolio-project/). \n",
    "The project consists in analyzing the [SAT scores](https://en.wikipedia.org/wiki/SAT) of high schoolers from different boroughs, along with other information related to it. As explained in the [article](https://www.dataquest.io/blog/data-science-portfolio-project/):\n",
    "> The SAT, or Scholastic Aptitude Test, is a test that high schoolers take in the US before applying to college. Colleges take the test scores into account when making admissions decisions, so it’s fairly important to do well on. The test is divided into 3 sections, each of which is scored out of 800 points. The total score is out of 2400 (although this has changed back and forth a few times, the scores in this dataset are out of 2400). High schools are often ranked by their average SAT scores, and high SAT scores are considered a sign of how good a school district is.\n",
    "\n",
    "There has been allegation of the SAT tests being unfair with racial groups in the US, we're going to look at this too.  \n",
    "\n",
    "## 1 Collecting our data\n",
    "This is the moment in which we are going to download the files and look for extra information to complement it, so we can move to see how it looks like.\n",
    "### 1.1 Downloading all data\n",
    "\n",
    "To make such a big analysis, we need to take the right amount of data. Thinking about that, we are going to take data from the following sources:\n",
    "* [High School Directory](https://data.cityofnewyork.us/Education/2014-2015-DOE-High-School-Directory/n3p6-zve2) - directory containing information about each high school\n",
    "* [SAT scores by school](https://data.cityofnewyork.us/Education/SAT-Results/f9bf-2cp4) — SAT scores for each high school in New York City.\n",
    "* [School attendance](https://data.cityofnewyork.us/Education/School-Attendance-and-Enrollment-Statistics-by-Dis/7z8d-msnt) — attendance information on every school in NYC.\n",
    "* [Math test results](https://data.cityofnewyork.us/Education/NYS-Math-Test-Results-By-Grade-2006-2011-School-Le/jufi-gzgp) — math test results for every school in NYC.\n",
    "* [Class size](https://data.cityofnewyork.us/Education/2010-2011-Class-Size-School-level-detail/urz7-pzb3) — class size information for each school in NYC.\n",
    "* [AP test results](https://data.cityofnewyork.us/Education/AP-College-Board-2010-School-Level-Results/itfs-ms3e) — Advanced Placement exam results for each high school. Passing AP exams can get you college credit in the US.\n",
    "* [Graduation outcomes](https://data.cityofnewyork.us/Education/Graduation-Outcomes-Classes-Of-2005-2010-School-Le/vh2h-md7a) — percentage of students who graduated, and other outcome information.\n",
    "* [Demographics](https://data.cityofnewyork.us/Education/School-Demographics-and-Accountability-Snapshot-20/ihfw-zy9j) — demographic information for each school.\n",
    "* [School survey](https://data.cityofnewyork.us/Education/NYC-School-Survey-2011/mnz3-dyi8) — surveys of parents, teachers, and students at each school.\n",
    "* [School district maps](https://data.cityofnewyork.us/Education/School-Districts/r8nu-ymqj) — contains information on the layout of the school districts, so that we can map them out.\n",
    "\n",
    "### 1.2 Getting background information\n",
    "\n",
    "- New York city is divided into 5 boroughs, which are essentially distinct regions;\n",
    "- Schools in New York city are divided into several school disticts, each of which can contain dozens of schools;\n",
    "- Not all the schools in all of the dataset are high schools;\n",
    "- Each school in New York city has a unique code called a `DNB` or District Borough Number;\n",
    "- By aggregating the data by district, we can use the district mapping data to plot district-by-district differences;\n",
    "\n",
    "## 2 Understanding our data\n",
    "After all the collection we need to see how it works, but first of all lets import the libraries we are going to use.\n",
    "### 2.1 Setting up the environment\n",
    "Lets import all libraries we are goingo to need to clean, analyze and display the data."
   ]
  },
  {
   "cell_type": "code",
   "execution_count": 1,
   "metadata": {},
   "outputs": [
    {
     "name": "stdout",
     "output_type": "stream",
     "text": [
      "Libraries imported!\n"
     ]
    }
   ],
   "source": [
    "# importing numpy and pandas to the analysis\n",
    "import numpy as np\n",
    "import pandas as pd\n",
    "\n",
    "# importing the visualization libraries\n",
    "import matplotlib.pyplot as plt\n",
    "import seaborn as sns\n",
    "\n",
    "print(\"Libraries imported!\")"
   ]
  },
  {
   "cell_type": "markdown",
   "metadata": {},
   "source": [
    "### 2.2 Opening and reading our data\n",
    "Now we are going to open our data and read it into pandas dataframes so we can understand how it looks like."
   ]
  },
  {
   "cell_type": "code",
   "execution_count": 2,
   "metadata": {},
   "outputs": [
    {
     "data": {
      "text/plain": [
       "dict_keys(['ap_2010', 'class_size', 'demographics', 'graduation', 'hs_directory', 'math_test_results', 'sat_results', 'school_attendence'])"
      ]
     },
     "execution_count": 2,
     "metadata": {},
     "output_type": "execute_result"
    }
   ],
   "source": [
    "# creating a list with the name of our csv files\n",
    "csv_files = ['ap_2010.csv', 'class_size.csv', 'demographics.csv', 'graduation.csv', 'hs_directory.csv', 'math_test_results.csv', 'sat_results.csv', 'school_attendence.csv']\n",
    "\n",
    "# creating a dictionary to store the future dataframes\n",
    "data = {}\n",
    "\n",
    "# creating and populating the dataframes with the csv\n",
    "for f in csv_files:\n",
    "    d = pd.read_csv('/home/nathalia/Documents/2 Data science/1 Projetos/4 New york SAT Analysis/{}'.format(f))\n",
    "    # creating the key without the .csv in the name and storing the data\n",
    "    data[f.replace('.csv', '')] = d\n",
    "    \n",
    "# checking to see if it worked\n",
    "data.keys()"
   ]
  },
  {
   "cell_type": "markdown",
   "metadata": {},
   "source": [
    "After reading our data and storing it in a dictionary, the next step is to look at it."
   ]
  },
  {
   "cell_type": "code",
   "execution_count": 3,
   "metadata": {},
   "outputs": [
    {
     "name": "stdout",
     "output_type": "stream",
     "text": [
      "\n",
      " ap_2010 \n",
      "       DBN                             SchoolName  AP Test Takers   \\\n",
      "0  01M448           UNIVERSITY NEIGHBORHOOD H.S.             39.0   \n",
      "1  01M450                 EAST SIDE COMMUNITY HS             19.0   \n",
      "2  01M515                    LOWER EASTSIDE PREP             24.0   \n",
      "3  01M539         NEW EXPLORATIONS SCI,TECH,MATH            255.0   \n",
      "4  02M296  High School of Hospitality Management              NaN   \n",
      "\n",
      "   Total Exams Taken  Number of Exams with scores 3 4 or 5  \n",
      "0               49.0                                  10.0  \n",
      "1               21.0                                   NaN  \n",
      "2               26.0                                  24.0  \n",
      "3              377.0                                 191.0  \n",
      "4                NaN                                   NaN  \n",
      "\n",
      " class_size \n",
      "    CSD BOROUGH SCHOOL CODE                SCHOOL NAME GRADE  PROGRAM TYPE  \\\n",
      "0    1       M        M015  P.S. 015 Roberto Clemente     0K       GEN ED   \n",
      "1    1       M        M015  P.S. 015 Roberto Clemente     0K          CTT   \n",
      "2    1       M        M015  P.S. 015 Roberto Clemente     01       GEN ED   \n",
      "3    1       M        M015  P.S. 015 Roberto Clemente     01          CTT   \n",
      "4    1       M        M015  P.S. 015 Roberto Clemente     02       GEN ED   \n",
      "\n",
      "  CORE SUBJECT (MS CORE and 9-12 ONLY) CORE COURSE (MS CORE and 9-12 ONLY)  \\\n",
      "0                                    -                                   -   \n",
      "1                                    -                                   -   \n",
      "2                                    -                                   -   \n",
      "3                                    -                                   -   \n",
      "4                                    -                                   -   \n",
      "\n",
      "  SERVICE CATEGORY(K-9* ONLY)  NUMBER OF STUDENTS / SEATS FILLED  \\\n",
      "0                           -                               19.0   \n",
      "1                           -                               21.0   \n",
      "2                           -                               17.0   \n",
      "3                           -                               17.0   \n",
      "4                           -                               15.0   \n",
      "\n",
      "   NUMBER OF SECTIONS  AVERAGE CLASS SIZE  SIZE OF SMALLEST CLASS  \\\n",
      "0                 1.0                19.0                    19.0   \n",
      "1                 1.0                21.0                    21.0   \n",
      "2                 1.0                17.0                    17.0   \n",
      "3                 1.0                17.0                    17.0   \n",
      "4                 1.0                15.0                    15.0   \n",
      "\n",
      "   SIZE OF LARGEST CLASS DATA SOURCE  SCHOOLWIDE PUPIL-TEACHER RATIO  \n",
      "0                   19.0         ATS                             NaN  \n",
      "1                   21.0         ATS                             NaN  \n",
      "2                   17.0         ATS                             NaN  \n",
      "3                   17.0         ATS                             NaN  \n",
      "4                   15.0         ATS                             NaN  \n",
      "\n",
      " demographics \n",
      "       DBN                       Name  schoolyear fl_percent  frl_percent  \\\n",
      "0  01M015  P.S. 015 ROBERTO CLEMENTE    20052006       89.4          NaN   \n",
      "1  01M015  P.S. 015 ROBERTO CLEMENTE    20062007       89.4          NaN   \n",
      "2  01M015  P.S. 015 ROBERTO CLEMENTE    20072008       89.4          NaN   \n",
      "3  01M015  P.S. 015 ROBERTO CLEMENTE    20082009       89.4          NaN   \n",
      "4  01M015  P.S. 015 ROBERTO CLEMENTE    20092010                    96.5   \n",
      "\n",
      "   total_enrollment prek   k grade1 grade2  ... black_num black_per  \\\n",
      "0               281   15  36     40     33  ...        74      26.3   \n",
      "1               243   15  29     39     38  ...        68      28.0   \n",
      "2               261   18  43     39     36  ...        77      29.5   \n",
      "3               252   17  37     44     32  ...        75      29.8   \n",
      "4               208   16  40     28     32  ...        67      32.2   \n",
      "\n",
      "  hispanic_num hispanic_per white_num white_per male_num male_per female_num  \\\n",
      "0          189         67.3         5       1.8    158.0     56.2      123.0   \n",
      "1          153         63.0         4       1.6    140.0     57.6      103.0   \n",
      "2          157         60.2         7       2.7    143.0     54.8      118.0   \n",
      "3          149         59.1         7       2.8    149.0     59.1      103.0   \n",
      "4          118         56.7         6       2.9    124.0     59.6       84.0   \n",
      "\n",
      "  female_per  \n",
      "0       43.8  \n",
      "1       42.4  \n",
      "2       45.2  \n",
      "3       40.9  \n",
      "4       40.4  \n",
      "\n",
      "[5 rows x 38 columns]\n",
      "\n",
      " graduation \n",
      "     Demographic     DBN                            School Name    Cohort  \\\n",
      "0  Total Cohort  01M292  HENRY STREET SCHOOL FOR INTERNATIONAL      2003   \n",
      "1  Total Cohort  01M292  HENRY STREET SCHOOL FOR INTERNATIONAL      2004   \n",
      "2  Total Cohort  01M292  HENRY STREET SCHOOL FOR INTERNATIONAL      2005   \n",
      "3  Total Cohort  01M292  HENRY STREET SCHOOL FOR INTERNATIONAL      2006   \n",
      "4  Total Cohort  01M292  HENRY STREET SCHOOL FOR INTERNATIONAL  2006 Aug   \n",
      "\n",
      "   Total Cohort Total Grads - n  Total Grads - % of cohort Total Regents - n  \\\n",
      "0             5               s                        NaN                 s   \n",
      "1            55              37                       67.3                17   \n",
      "2            64              43                       67.2                27   \n",
      "3            78              43                       55.1                36   \n",
      "4            78              44                       56.4                37   \n",
      "\n",
      "   Total Regents - % of cohort  Total Regents - % of grads  ...  \\\n",
      "0                          NaN                         NaN  ...   \n",
      "1                         30.9                        45.9  ...   \n",
      "2                         42.2                        62.8  ...   \n",
      "3                         46.2                        83.7  ...   \n",
      "4                         47.4                        84.1  ...   \n",
      "\n",
      "  Regents w/o Advanced - n  Regents w/o Advanced - % of cohort  \\\n",
      "0                        s                                 NaN   \n",
      "1                       17                                30.9   \n",
      "2                       27                                42.2   \n",
      "3                       36                                46.2   \n",
      "4                       37                                47.4   \n",
      "\n",
      "   Regents w/o Advanced - % of grads Local - n  Local - % of cohort  \\\n",
      "0                                NaN         s                  NaN   \n",
      "1                               45.9        20                 36.4   \n",
      "2                               62.8        16                 25.0   \n",
      "3                               83.7         7                  9.0   \n",
      "4                               84.1         7                  9.0   \n",
      "\n",
      "   Local - % of grads Still Enrolled - n  Still Enrolled - % of cohort  \\\n",
      "0                 NaN                  s                           NaN   \n",
      "1                54.1                 15                          27.3   \n",
      "2                37.2                  9                          14.1   \n",
      "3                16.3                 16                          20.5   \n",
      "4                15.9                 15                          19.2   \n",
      "\n",
      "   Dropped Out - n Dropped Out - % of cohort  \n",
      "0                s                       NaN  \n",
      "1                3                       5.5  \n",
      "2                9                      14.1  \n",
      "3               11                      14.1  \n",
      "4               11                      14.1  \n",
      "\n",
      "[5 rows x 23 columns]\n",
      "\n",
      " hs_directory \n",
      "       dbn                                        school_name    borough  \\\n",
      "0  27Q260          Frederick Douglass Academy VI High School     Queens   \n",
      "1  21K559        Life Academy High School for Film and Music   Brooklyn   \n",
      "2  16K393     Frederick Douglass Academy IV Secondary School   Brooklyn   \n",
      "3  08X305                               Pablo Neruda Academy      Bronx   \n",
      "4  03M485  Fiorello H. LaGuardia High School of Music & A...  Manhattan   \n",
      "\n",
      "  building_code  phone_number    fax_number  grade_span_min  grade_span_max  \\\n",
      "0          Q465  718-471-2154  718-471-2890             9.0              12   \n",
      "1          K400  718-333-7750  718-333-7775             9.0              12   \n",
      "2          K026  718-574-2820  718-574-2821             9.0              12   \n",
      "3          X450  718-824-1682  718-824-1663             9.0              12   \n",
      "4          M485  212-496-0700  212-724-5748             9.0              12   \n",
      "\n",
      "   expgrade_span_min  expgrade_span_max  ... priority08 priority09 priority10  \\\n",
      "0                NaN                NaN  ...        NaN        NaN        NaN   \n",
      "1                NaN                NaN  ...        NaN        NaN        NaN   \n",
      "2                NaN                NaN  ...        NaN        NaN        NaN   \n",
      "3                NaN                NaN  ...        NaN        NaN        NaN   \n",
      "4                NaN                NaN  ...        NaN        NaN        NaN   \n",
      "\n",
      "                                          Location 1 Community Board  \\\n",
      "0  8 21 Bay 25 Street\\nFar Rockaway, NY 11691\\n(4...            14.0   \n",
      "1  2630 Benson Avenue\\nBrooklyn, NY 11214\\n(40.59...            13.0   \n",
      "2  1014 Lafayette Avenue\\nBrooklyn, NY 11221\\n(40...             3.0   \n",
      "3  1980 Lafayette Avenue\\nBronx, NY 10473\\n(40.82...             9.0   \n",
      "4  100 Amsterdam Avenue\\nNew York, NY 10023\\n(40....             7.0   \n",
      "\n",
      "   Council District Census Tract        BIN           BBL  \\\n",
      "0              31.0     100802.0  4300730.0  4.157360e+09   \n",
      "1              47.0        306.0  3186454.0  3.068830e+09   \n",
      "2              36.0        291.0  3393805.0  3.016160e+09   \n",
      "3              18.0         16.0  2022205.0  2.036040e+09   \n",
      "4               6.0        151.0  1030341.0  1.011560e+09   \n",
      "\n",
      "                                                 NTA  \n",
      "0  Far Rockaway-Bayswater                        ...  \n",
      "1  Gravesend                                     ...  \n",
      "2  Stuyvesant Heights                            ...  \n",
      "3  Soundview-Castle Hill-Clason Point-Harding Par...  \n",
      "4  Lincoln Square                                ...  \n",
      "\n",
      "[5 rows x 64 columns]\n",
      "\n",
      " math_test_results \n",
      "       DBN Grade  Year      Category  Number Tested  Mean Scale Score  \\\n",
      "0  01M015     3  2006  All Students             39             667.0   \n",
      "1  01M015     3  2007  All Students             31             672.0   \n",
      "2  01M015     3  2008  All Students             37             668.0   \n",
      "3  01M015     3  2009  All Students             33             668.0   \n",
      "4  01M015     3  2010  All Students             26             677.0   \n",
      "\n",
      "   Level 1 #  Level 1 %  Level 2 #  Level 2 %  Level 3 #  Level 3 %  \\\n",
      "0        2.0        5.1       11.0       28.2       20.0       51.3   \n",
      "1        2.0        6.5        3.0        9.7       22.0       71.0   \n",
      "2        0.0        0.0        6.0       16.2       29.0       78.4   \n",
      "3        0.0        0.0        4.0       12.1       28.0       84.8   \n",
      "4        6.0       23.1       12.0       46.2        6.0       23.1   \n",
      "\n",
      "   Level 4 #  Level 4 %  Level 3+4 #  Level 3+4 %  \n",
      "0        6.0       15.4         26.0         66.7  \n",
      "1        4.0       12.9         26.0         83.9  \n",
      "2        2.0        5.4         31.0         83.8  \n",
      "3        1.0        3.0         29.0         87.9  \n",
      "4        2.0        7.7          8.0         30.8  \n",
      "\n",
      " sat_results \n",
      "       DBN                                    SCHOOL NAME  \\\n",
      "0  01M292  HENRY STREET SCHOOL FOR INTERNATIONAL STUDIES   \n",
      "1  01M448            UNIVERSITY NEIGHBORHOOD HIGH SCHOOL   \n",
      "2  01M450                     EAST SIDE COMMUNITY SCHOOL   \n",
      "3  01M458                      FORSYTH SATELLITE ACADEMY   \n",
      "4  01M509                        MARTA VALLE HIGH SCHOOL   \n",
      "\n",
      "  Num of SAT Test Takers SAT Critical Reading Avg. Score SAT Math Avg. Score  \\\n",
      "0                     29                             355                 404   \n",
      "1                     91                             383                 423   \n",
      "2                     70                             377                 402   \n",
      "3                      7                             414                 401   \n",
      "4                     44                             390                 433   \n",
      "\n",
      "  SAT Writing Avg. Score  \n",
      "0                    363  \n",
      "1                    366  \n",
      "2                    370  \n",
      "3                    359  \n",
      "4                    384  \n",
      "\n",
      " school_attendence \n",
      "       District  YTD % Attendance (Avg)  YTD Enrollment(Avg)\n",
      "0  DISTRICT 01                   91.18                12367\n",
      "1  DISTRICT 02                   89.01                60823\n",
      "2  DISTRICT 03                   89.28                21962\n",
      "3  DISTRICT 04                   91.13                14252\n",
      "4  DISTRICT 05                   89.08                13170\n"
     ]
    }
   ],
   "source": [
    "# reading the first five rows of each dataframe\n",
    "for k in data.keys():\n",
    "    print('\\n {} \\n {}'.format(k, data[k].head()))"
   ]
  },
  {
   "cell_type": "markdown",
   "metadata": {},
   "source": [
    "Looking at our data we can see some things:\n",
    "- Most of the datasets contain the `DBN` column;\n",
    "- Some fields look interesting for mapping;\n",
    "- Some of the datasets appear to contain multiple rows for each school, showing that we'll have to do some preprocessing.\n",
    "After seeing this, let's move to our next step and unify this data."
   ]
  },
  {
   "cell_type": "markdown",
   "metadata": {},
   "source": [
    "## 3 Data Preprocessing\n",
    "First thing will be unify our data based on a common column, in our casa this common column is `DBN`. **INSERT HERE THE EXPLANATION AND LINK ABOUT THE DBN OF NEW YORK SCHOOLS**. \n",
    "We are going to need to change the names of the columns in every dataset that is not the `hs_directory` dataframe so it is all lowercase, and create the `dbn` column in the `class_size` dataset too.  \n",
    "Let's rename the `dbn` column to `DBN` in the `hs_directory` dataset."
   ]
  },
  {
   "cell_type": "code",
   "execution_count": 38,
   "metadata": {},
   "outputs": [
    {
     "name": "stdout",
     "output_type": "stream",
     "text": [
      "The ap_2010 is already lowercase.\n",
      "\n",
      "The class_size has no DBN.\n",
      "\n",
      "The demographics is already lowercase.\n",
      "The graduation is already lowercase.\n",
      "The hs_directory is already lowercase.\n",
      "The math_test_results is already lowercase.\n",
      "The sat_results is already lowercase.\n"
     ]
    }
   ],
   "source": [
    "# accessing the dataset and renaming the column\n",
    "datasets = ['ap_2010', 'class_size', 'demographics', 'graduation', 'hs_directory', 'math_test_results', 'sat_results']\n",
    "\n",
    "# changin the DBN columns to lower case (all of them)\n",
    "for item in datasets:\n",
    "    if ('DBN') in data[item].columns: \n",
    "        data[item].rename({'DBN':'dbn'}, axis=1, inplace=True)\n",
    "        print(\"The {} dataset was changed.\".format(item))\n",
    "    elif ('dbn') in data[item].columns:\n",
    "        print(\"The {} is already lowercase.\".format(item))\n",
    "    else:\n",
    "        # let's make this information a litte bit more visible\n",
    "        print(\"\\nThe {} has no DBN.\\n\".format(item))"
   ]
  },
  {
   "cell_type": "markdown",
   "metadata": {},
   "source": [
    "As we can see above, the `class_size` has no `DBN` or `dbn` column, let's look at this specific dataframe to see if the information is there, in any other form. But first, let's look at the `dbm` values to see how they look like."
   ]
  },
  {
   "cell_type": "code",
   "execution_count": 46,
   "metadata": {},
   "outputs": [
    {
     "data": {
      "text/plain": [
       "array(['01M015', '01M019', '01M020', ..., '32K554', '32K556', '32K564'],\n",
       "      dtype=object)"
      ]
     },
     "execution_count": 46,
     "metadata": {},
     "output_type": "execute_result"
    }
   ],
   "source": [
    "# a sample of what the dbn looks like\n",
    "data['demographics']['dbn'].unique()"
   ]
  },
  {
   "cell_type": "markdown",
   "metadata": {},
   "source": [
    "As we can see above, the `dbn` values are made of two numbers, followed by a letter and other three numbers."
   ]
  },
  {
   "cell_type": "code",
   "execution_count": null,
   "metadata": {},
   "outputs": [],
   "source": []
  }
 ],
 "metadata": {
  "kernelspec": {
   "display_name": "ds21",
   "language": "python",
   "name": "ds21"
  },
  "language_info": {
   "codemirror_mode": {
    "name": "ipython",
    "version": 3
   },
   "file_extension": ".py",
   "mimetype": "text/x-python",
   "name": "python",
   "nbconvert_exporter": "python",
   "pygments_lexer": "ipython3",
   "version": "3.8.5"
  }
 },
 "nbformat": 4,
 "nbformat_minor": 4
}
