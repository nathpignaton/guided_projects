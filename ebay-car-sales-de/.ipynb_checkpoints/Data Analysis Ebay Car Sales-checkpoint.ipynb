{
 "cells": [
  {
   "cell_type": "markdown",
   "metadata": {
    "collapsed": true
   },
   "source": [
    "# Exploring eBay Car Sales Data\n",
    "This is a Guided Project of one of the DataQuest.io courses. It is a **Data Cleaning** project, in which we will take a web scrapped data set of the German eBay website, more specifically the *eBay Kleinanzeigen* section.  \n",
    "\n",
    "The data from DataQuest was altered to make the job a little bit more difficult. The original one was cleaner to make analysis easier, it was uploaded on Kaggle by the user *orgesleka* but it is not available anymore. But it can be found [here](https://data.world/data-society/used-cars-data).  \n",
    "\n",
    "Our objective is to clean the data and answer the following questions:\n",
    "1. What are the most brand/model combinations?  \n",
    "2. Is price of sale and mileage correlated?  \n",
    "3. How much cheaper are cars with damage and their non-damage counterparts?  \n",
    "4. What are the most popular vehicles types and their prices?"
   ]
  },
  {
   "cell_type": "markdown",
   "metadata": {
    "collapsed": true
   },
   "source": [
    "## 1 Importing and reading data\n",
    "At this point we need to properly import some libraries, read our data and check to see if it is ok. We may need different encoding arguments for our `df.read_csv()` function."
   ]
  },
  {
   "cell_type": "code",
   "execution_count": 1,
   "metadata": {
    "scrolled": false
   },
   "outputs": [
    {
     "data": {
      "text/html": [
       "<div>\n",
       "<style scoped>\n",
       "    .dataframe tbody tr th:only-of-type {\n",
       "        vertical-align: middle;\n",
       "    }\n",
       "\n",
       "    .dataframe tbody tr th {\n",
       "        vertical-align: top;\n",
       "    }\n",
       "\n",
       "    .dataframe thead th {\n",
       "        text-align: right;\n",
       "    }\n",
       "</style>\n",
       "<table border=\"1\" class=\"dataframe\">\n",
       "  <thead>\n",
       "    <tr style=\"text-align: right;\">\n",
       "      <th></th>\n",
       "      <th>dateCrawled</th>\n",
       "      <th>name</th>\n",
       "      <th>seller</th>\n",
       "      <th>offerType</th>\n",
       "      <th>price</th>\n",
       "      <th>abtest</th>\n",
       "      <th>vehicleType</th>\n",
       "      <th>yearOfRegistration</th>\n",
       "      <th>gearbox</th>\n",
       "      <th>powerPS</th>\n",
       "      <th>model</th>\n",
       "      <th>odometer</th>\n",
       "      <th>monthOfRegistration</th>\n",
       "      <th>fuelType</th>\n",
       "      <th>brand</th>\n",
       "      <th>notRepairedDamage</th>\n",
       "      <th>dateCreated</th>\n",
       "      <th>nrOfPictures</th>\n",
       "      <th>postalCode</th>\n",
       "      <th>lastSeen</th>\n",
       "    </tr>\n",
       "  </thead>\n",
       "  <tbody>\n",
       "    <tr>\n",
       "      <th>0</th>\n",
       "      <td>2016-03-26 17:47:46</td>\n",
       "      <td>Peugeot_807_160_NAVTECH_ON_BOARD</td>\n",
       "      <td>privat</td>\n",
       "      <td>Angebot</td>\n",
       "      <td>$5,000</td>\n",
       "      <td>control</td>\n",
       "      <td>bus</td>\n",
       "      <td>2004</td>\n",
       "      <td>manuell</td>\n",
       "      <td>158</td>\n",
       "      <td>andere</td>\n",
       "      <td>150,000km</td>\n",
       "      <td>3</td>\n",
       "      <td>lpg</td>\n",
       "      <td>peugeot</td>\n",
       "      <td>nein</td>\n",
       "      <td>2016-03-26 00:00:00</td>\n",
       "      <td>0</td>\n",
       "      <td>79588</td>\n",
       "      <td>2016-04-06 06:45:54</td>\n",
       "    </tr>\n",
       "    <tr>\n",
       "      <th>1</th>\n",
       "      <td>2016-04-04 13:38:56</td>\n",
       "      <td>BMW_740i_4_4_Liter_HAMANN_UMBAU_Mega_Optik</td>\n",
       "      <td>privat</td>\n",
       "      <td>Angebot</td>\n",
       "      <td>$8,500</td>\n",
       "      <td>control</td>\n",
       "      <td>limousine</td>\n",
       "      <td>1997</td>\n",
       "      <td>automatik</td>\n",
       "      <td>286</td>\n",
       "      <td>7er</td>\n",
       "      <td>150,000km</td>\n",
       "      <td>6</td>\n",
       "      <td>benzin</td>\n",
       "      <td>bmw</td>\n",
       "      <td>nein</td>\n",
       "      <td>2016-04-04 00:00:00</td>\n",
       "      <td>0</td>\n",
       "      <td>71034</td>\n",
       "      <td>2016-04-06 14:45:08</td>\n",
       "    </tr>\n",
       "    <tr>\n",
       "      <th>2</th>\n",
       "      <td>2016-03-26 18:57:24</td>\n",
       "      <td>Volkswagen_Golf_1.6_United</td>\n",
       "      <td>privat</td>\n",
       "      <td>Angebot</td>\n",
       "      <td>$8,990</td>\n",
       "      <td>test</td>\n",
       "      <td>limousine</td>\n",
       "      <td>2009</td>\n",
       "      <td>manuell</td>\n",
       "      <td>102</td>\n",
       "      <td>golf</td>\n",
       "      <td>70,000km</td>\n",
       "      <td>7</td>\n",
       "      <td>benzin</td>\n",
       "      <td>volkswagen</td>\n",
       "      <td>nein</td>\n",
       "      <td>2016-03-26 00:00:00</td>\n",
       "      <td>0</td>\n",
       "      <td>35394</td>\n",
       "      <td>2016-04-06 20:15:37</td>\n",
       "    </tr>\n",
       "    <tr>\n",
       "      <th>3</th>\n",
       "      <td>2016-03-12 16:58:10</td>\n",
       "      <td>Smart_smart_fortwo_coupe_softouch/F1/Klima/Pan...</td>\n",
       "      <td>privat</td>\n",
       "      <td>Angebot</td>\n",
       "      <td>$4,350</td>\n",
       "      <td>control</td>\n",
       "      <td>kleinwagen</td>\n",
       "      <td>2007</td>\n",
       "      <td>automatik</td>\n",
       "      <td>71</td>\n",
       "      <td>fortwo</td>\n",
       "      <td>70,000km</td>\n",
       "      <td>6</td>\n",
       "      <td>benzin</td>\n",
       "      <td>smart</td>\n",
       "      <td>nein</td>\n",
       "      <td>2016-03-12 00:00:00</td>\n",
       "      <td>0</td>\n",
       "      <td>33729</td>\n",
       "      <td>2016-03-15 03:16:28</td>\n",
       "    </tr>\n",
       "    <tr>\n",
       "      <th>4</th>\n",
       "      <td>2016-04-01 14:38:50</td>\n",
       "      <td>Ford_Focus_1_6_Benzin_TÜV_neu_ist_sehr_gepfleg...</td>\n",
       "      <td>privat</td>\n",
       "      <td>Angebot</td>\n",
       "      <td>$1,350</td>\n",
       "      <td>test</td>\n",
       "      <td>kombi</td>\n",
       "      <td>2003</td>\n",
       "      <td>manuell</td>\n",
       "      <td>0</td>\n",
       "      <td>focus</td>\n",
       "      <td>150,000km</td>\n",
       "      <td>7</td>\n",
       "      <td>benzin</td>\n",
       "      <td>ford</td>\n",
       "      <td>nein</td>\n",
       "      <td>2016-04-01 00:00:00</td>\n",
       "      <td>0</td>\n",
       "      <td>39218</td>\n",
       "      <td>2016-04-01 14:38:50</td>\n",
       "    </tr>\n",
       "  </tbody>\n",
       "</table>\n",
       "</div>"
      ],
      "text/plain": [
       "           dateCrawled                                               name  \\\n",
       "0  2016-03-26 17:47:46                   Peugeot_807_160_NAVTECH_ON_BOARD   \n",
       "1  2016-04-04 13:38:56         BMW_740i_4_4_Liter_HAMANN_UMBAU_Mega_Optik   \n",
       "2  2016-03-26 18:57:24                         Volkswagen_Golf_1.6_United   \n",
       "3  2016-03-12 16:58:10  Smart_smart_fortwo_coupe_softouch/F1/Klima/Pan...   \n",
       "4  2016-04-01 14:38:50  Ford_Focus_1_6_Benzin_TÜV_neu_ist_sehr_gepfleg...   \n",
       "\n",
       "   seller offerType   price   abtest vehicleType  yearOfRegistration  \\\n",
       "0  privat   Angebot  $5,000  control         bus                2004   \n",
       "1  privat   Angebot  $8,500  control   limousine                1997   \n",
       "2  privat   Angebot  $8,990     test   limousine                2009   \n",
       "3  privat   Angebot  $4,350  control  kleinwagen                2007   \n",
       "4  privat   Angebot  $1,350     test       kombi                2003   \n",
       "\n",
       "     gearbox  powerPS   model   odometer  monthOfRegistration fuelType  \\\n",
       "0    manuell      158  andere  150,000km                    3      lpg   \n",
       "1  automatik      286     7er  150,000km                    6   benzin   \n",
       "2    manuell      102    golf   70,000km                    7   benzin   \n",
       "3  automatik       71  fortwo   70,000km                    6   benzin   \n",
       "4    manuell        0   focus  150,000km                    7   benzin   \n",
       "\n",
       "        brand notRepairedDamage          dateCreated  nrOfPictures  \\\n",
       "0     peugeot              nein  2016-03-26 00:00:00             0   \n",
       "1         bmw              nein  2016-04-04 00:00:00             0   \n",
       "2  volkswagen              nein  2016-03-26 00:00:00             0   \n",
       "3       smart              nein  2016-03-12 00:00:00             0   \n",
       "4        ford              nein  2016-04-01 00:00:00             0   \n",
       "\n",
       "   postalCode             lastSeen  \n",
       "0       79588  2016-04-06 06:45:54  \n",
       "1       71034  2016-04-06 14:45:08  \n",
       "2       35394  2016-04-06 20:15:37  \n",
       "3       33729  2016-03-15 03:16:28  \n",
       "4       39218  2016-04-01 14:38:50  "
      ]
     },
     "execution_count": 1,
     "metadata": {},
     "output_type": "execute_result"
    }
   ],
   "source": [
    "# First we need to import the libraries we are going to use\n",
    "import numpy as np\n",
    "import pandas as pd\n",
    "\n",
    "# Second we will import some visualization libraries\n",
    "import matplotlib.pyplot as plt\n",
    "import seaborn as sns\n",
    "import bokeh\n",
    "\n",
    "# Then we can import the file and read it\n",
    "autos = pd.read_csv(\"https://raw.githubusercontent.com/nathpignaton/guided_projects/main/eBay_car_sales/autos.csv\", encoding = \"Latin-1\")\n",
    "\n",
    "autos.head()"
   ]
  },
  {
   "cell_type": "markdown",
   "metadata": {},
   "source": [
    "We will also change the name of the columns, since they are `camelcased` and is better if they are `snakecase` and lowercase only."
   ]
  },
  {
   "cell_type": "code",
   "execution_count": 2,
   "metadata": {
    "scrolled": true
   },
   "outputs": [
    {
     "name": "stdout",
     "output_type": "stream",
     "text": [
      "Before:\n"
     ]
    },
    {
     "data": {
      "text/plain": [
       "Index(['dateCrawled', 'name', 'seller', 'offerType', 'price', 'abtest',\n",
       "       'vehicleType', 'yearOfRegistration', 'gearbox', 'powerPS', 'model',\n",
       "       'odometer', 'monthOfRegistration', 'fuelType', 'brand',\n",
       "       'notRepairedDamage', 'dateCreated', 'nrOfPictures', 'postalCode',\n",
       "       'lastSeen'],\n",
       "      dtype='object')"
      ]
     },
     "execution_count": 2,
     "metadata": {},
     "output_type": "execute_result"
    }
   ],
   "source": [
    "# Seeing how they look like\n",
    "print(\"Before:\")\n",
    "autos.columns"
   ]
  },
  {
   "cell_type": "code",
   "execution_count": 3,
   "metadata": {},
   "outputs": [
    {
     "name": "stdout",
     "output_type": "stream",
     "text": [
      "After:\n"
     ]
    },
    {
     "data": {
      "text/plain": [
       "Index(['date_crawled', 'name', 'seller', 'offer_type', 'price', 'abtest',\n",
       "       'vehicle_type', 'registration_year', 'gearbox', 'power_ps', 'model',\n",
       "       'odometer', 'registration_month', 'fuel_type', 'brand',\n",
       "       'not_repaired_damage', 'ad_created', 'n_of_pictures', 'postal_code',\n",
       "       'last_seen'],\n",
       "      dtype='object')"
      ]
     },
     "execution_count": 3,
     "metadata": {},
     "output_type": "execute_result"
    }
   ],
   "source": [
    "# Changing the name to more meaningful snakecase ones\n",
    "print(\"After:\")\n",
    "autos.columns = ['date_crawled', 'name', 'seller', 'offer_type', 'price', 'abtest',\n",
    "       'vehicle_type', 'registration_year', 'gearbox', 'power_ps', 'model',\n",
    "       'odometer', 'registration_month', 'fuel_type', 'brand',\n",
    "       'not_repaired_damage', 'ad_created', 'n_of_pictures', 'postal_code',\n",
    "       'last_seen']\n",
    "\n",
    "# Checking it\n",
    "autos.columns"
   ]
  },
  {
   "cell_type": "markdown",
   "metadata": {},
   "source": [
    "## 2 Looking for duplicated and missing data\n",
    "Continuing the process, we can check for duplicated data."
   ]
  },
  {
   "cell_type": "code",
   "execution_count": 4,
   "metadata": {},
   "outputs": [
    {
     "data": {
      "text/html": [
       "<div>\n",
       "<style scoped>\n",
       "    .dataframe tbody tr th:only-of-type {\n",
       "        vertical-align: middle;\n",
       "    }\n",
       "\n",
       "    .dataframe tbody tr th {\n",
       "        vertical-align: top;\n",
       "    }\n",
       "\n",
       "    .dataframe thead th {\n",
       "        text-align: right;\n",
       "    }\n",
       "</style>\n",
       "<table border=\"1\" class=\"dataframe\">\n",
       "  <thead>\n",
       "    <tr style=\"text-align: right;\">\n",
       "      <th></th>\n",
       "      <th>date_crawled</th>\n",
       "      <th>name</th>\n",
       "      <th>seller</th>\n",
       "      <th>offer_type</th>\n",
       "      <th>price</th>\n",
       "      <th>abtest</th>\n",
       "      <th>vehicle_type</th>\n",
       "      <th>registration_year</th>\n",
       "      <th>gearbox</th>\n",
       "      <th>power_ps</th>\n",
       "      <th>model</th>\n",
       "      <th>odometer</th>\n",
       "      <th>registration_month</th>\n",
       "      <th>fuel_type</th>\n",
       "      <th>brand</th>\n",
       "      <th>not_repaired_damage</th>\n",
       "      <th>ad_created</th>\n",
       "      <th>n_of_pictures</th>\n",
       "      <th>postal_code</th>\n",
       "      <th>last_seen</th>\n",
       "    </tr>\n",
       "  </thead>\n",
       "  <tbody>\n",
       "  </tbody>\n",
       "</table>\n",
       "</div>"
      ],
      "text/plain": [
       "Empty DataFrame\n",
       "Columns: [date_crawled, name, seller, offer_type, price, abtest, vehicle_type, registration_year, gearbox, power_ps, model, odometer, registration_month, fuel_type, brand, not_repaired_damage, ad_created, n_of_pictures, postal_code, last_seen]\n",
       "Index: []"
      ]
     },
     "execution_count": 4,
     "metadata": {},
     "output_type": "execute_result"
    }
   ],
   "source": [
    "# Checking for duplicates\n",
    "autos[autos.duplicated()]"
   ]
  },
  {
   "cell_type": "markdown",
   "metadata": {},
   "source": [
    "As we can see there are no duplicated values in the dataset, a good beginning. Now let's move to see if there are missing values. "
   ]
  },
  {
   "cell_type": "code",
   "execution_count": 5,
   "metadata": {},
   "outputs": [
    {
     "data": {
      "text/plain": [
       "date_crawled              0\n",
       "name                      0\n",
       "seller                    0\n",
       "offer_type                0\n",
       "price                     0\n",
       "abtest                    0\n",
       "vehicle_type           5095\n",
       "registration_year         0\n",
       "gearbox                2680\n",
       "power_ps                  0\n",
       "model                  2758\n",
       "odometer                  0\n",
       "registration_month        0\n",
       "fuel_type              4482\n",
       "brand                     0\n",
       "not_repaired_damage    9829\n",
       "ad_created                0\n",
       "n_of_pictures             0\n",
       "postal_code               0\n",
       "last_seen                 0\n",
       "dtype: int64"
      ]
     },
     "execution_count": 5,
     "metadata": {},
     "output_type": "execute_result"
    }
   ],
   "source": [
    "# Printing the amount of missing values\n",
    "autos.isnull().sum()"
   ]
  },
  {
   "cell_type": "markdown",
   "metadata": {},
   "source": [
    "As we can see above some columns have a huge amount of values missing. Looking at the specific columns, we need to check which would lead our analysis to a mistake and which \"missing values\" are null because they are supposed to.  \n",
    "Taking a closer look we can see that the `not_repaired_damage` column is one that is suppose to remain like that, since cars will have not always have not repaired damage. Let's look at the unique values of it."
   ]
  },
  {
   "cell_type": "code",
   "execution_count": 6,
   "metadata": {},
   "outputs": [
    {
     "data": {
      "text/plain": [
       "array(['nein', nan, 'ja'], dtype=object)"
      ]
     },
     "execution_count": 6,
     "metadata": {},
     "output_type": "execute_result"
    }
   ],
   "source": [
    "autos['not_repaired_damage'].unique()"
   ]
  },
  {
   "cell_type": "markdown",
   "metadata": {},
   "source": [
    "Let's assume that the entries with no value does not have not_repaired_damage and let's fill the `nan` values with `nein` ('no' in German)."
   ]
  },
  {
   "cell_type": "code",
   "execution_count": 7,
   "metadata": {},
   "outputs": [
    {
     "name": "stdout",
     "output_type": "stream",
     "text": [
      "Null values in 'not_repaired_damage':\n"
     ]
    },
    {
     "data": {
      "text/plain": [
       "0"
      ]
     },
     "execution_count": 7,
     "metadata": {},
     "output_type": "execute_result"
    }
   ],
   "source": [
    "# filling the nan values with 'nein'\n",
    "autos['not_repaired_damage'] = autos['not_repaired_damage'].fillna('nein')\n",
    "\n",
    "# checking it out\n",
    "print(\"Null values in 'not_repaired_damage':\")\n",
    "autos['not_repaired_damage'].isnull().sum()"
   ]
  },
  {
   "cell_type": "markdown",
   "metadata": {},
   "source": [
    "Once we're done with that, we'll move to the other ones, let's see how they look like with a heatmap. First we will create a list containing the columns with null values only."
   ]
  },
  {
   "cell_type": "code",
   "execution_count": 8,
   "metadata": {
    "scrolled": false
   },
   "outputs": [
    {
     "data": {
      "text/plain": [
       "Index(['vehicle_type', 'gearbox', 'model', 'fuel_type'], dtype='object')"
      ]
     },
     "execution_count": 8,
     "metadata": {},
     "output_type": "execute_result"
    }
   ],
   "source": [
    "# creating a list with the null columns\n",
    "sum_nulls = autos.isna().sum() != 0\n",
    "null_columns = sum_nulls[sum_nulls==True].index\n",
    "\n",
    "null_columns"
   ]
  },
  {
   "cell_type": "markdown",
   "metadata": {},
   "source": [
    "Now we can go ahead and plot our heatmap:"
   ]
  },
  {
   "cell_type": "code",
   "execution_count": 9,
   "metadata": {},
   "outputs": [
    {
     "data": {
      "text/plain": [
       "<AxesSubplot:>"
      ]
     },
     "execution_count": 9,
     "metadata": {},
     "output_type": "execute_result"
    },
    {
     "data": {
      "image/png": "[encoded data removed]",
      "text/plain": [
       "<Figure size 432x288 with 1 Axes>"
      ]
     },
     "metadata": {
      "needs_background": "light"
     },
     "output_type": "display_data"
    }
   ],
   "source": [
    "# plotting the heatmap\n",
    "sns.heatmap(autos[null_columns].isna(), cbar=False)"
   ]
  },
  {
   "cell_type": "markdown",
   "metadata": {},
   "source": [
    "We can see in the graph above that the missing values doesn't seem to have a connection, next we will dive into this specific values to see the relevance of them.\n",
    "\n",
    "## 3 Checking the relevance of the null values\n",
    "Looking at the heatmap results we can already see that they are not a big percentage of the data, but let's take a closer look and see how small the percentage is."
   ]
  },
  {
   "cell_type": "code",
   "execution_count": 10,
   "metadata": {},
   "outputs": [
    {
     "data": {
      "text/plain": [
       "vehicle_type    10.190\n",
       "gearbox          5.360\n",
       "model            5.516\n",
       "fuel_type        8.964\n",
       "dtype: float64"
      ]
     },
     "execution_count": 10,
     "metadata": {},
     "output_type": "execute_result"
    }
   ],
   "source": [
    "# Calculating the percentage of null values of this columns\n",
    "null_percentage = (autos[null_columns].isna().sum()/autos[null_columns].shape[0])*100\n",
    "null_percentage"
   ]
  },
  {
   "cell_type": "markdown",
   "metadata": {},
   "source": [
    "As we can see above the biggest percentage belongs to `vehicle_type` and it is 10,19%. Let's take a look and see if there is any value to substitute this values, since vehicle type is a important variable to answer our questions."
   ]
  },
  {
   "cell_type": "code",
   "execution_count": 11,
   "metadata": {},
   "outputs": [
    {
     "data": {
      "text/plain": [
       "array(['bus', 'limousine', 'kleinwagen', 'kombi', nan, 'coupe', 'suv',\n",
       "       'cabrio', 'andere'], dtype=object)"
      ]
     },
     "execution_count": 11,
     "metadata": {},
     "output_type": "execute_result"
    }
   ],
   "source": [
    "# checking out the unique values\n",
    "autos['vehicle_type'].unique()"
   ]
  },
  {
   "cell_type": "markdown",
   "metadata": {},
   "source": [
    "As we can see above, there is a category named `andere`, that's 'other' in German, so we can substitute our nan values for `andere`, keeping the relevant entries. Let's take a look at the unique values in the other three columns too."
   ]
  },
  {
   "cell_type": "code",
   "execution_count": 12,
   "metadata": {
    "scrolled": false
   },
   "outputs": [
    {
     "name": "stdout",
     "output_type": "stream",
     "text": [
      "gearbox unique:\t\t['manuell' 'automatik' nan]\n",
      "model unique:\t\t['andere' '7er' 'golf' 'fortwo' 'focus' 'voyager' 'arosa' 'megane' nan\n",
      " 'a3' 'clio' 'vectra' 'scirocco' '3er' 'a4' '911' 'cooper' '5er' 'polo'\n",
      " 'e_klasse' '2_reihe' 'c_klasse' 'corsa' 'mondeo' 'altea' 'a1' 'twingo'\n",
      " 'a_klasse' 'cl' '3_reihe' 's_klasse' 'sandero' 'passat' 'primera'\n",
      " 'fiesta' 'wrangler' 'clubman' 'a6' 'transporter' 'astra' 'v40' 'ibiza'\n",
      " 'micra' '1er' 'yaris' 'colt' '6_reihe' '5_reihe' 'corolla' 'ka' 'tigra'\n",
      " 'punto' 'vito' 'cordoba' 'galaxy' '100' 'sharan' 'octavia' 'm_klasse'\n",
      " 'lupo' 'superb' 'meriva' 'c_max' 'laguna' 'touran' '1_reihe' 'm_reihe'\n",
      " 'touareg' 'seicento' 'avensis' 'vivaro' 'x_reihe' 'ducato' 'carnival'\n",
      " 'boxster' 'signum' 'zafira' 'rav' 'a5' 'beetle' 'c_reihe' 'phaeton'\n",
      " 'i_reihe' 'sl' 'insignia' 'up' 'civic' '80' 'mx_reihe' 'omega' 'sorento'\n",
      " 'z_reihe' 'berlingo' 'clk' 's_max' 'kalos' 'cx_reihe' 'grand' 'swift'\n",
      " 'tiguan' 'sprinter' 'mii' 'viano' 'kaefer' 'almera' 'picanto' 'espace'\n",
      " 'scenic' 'one' 'bora' 'fox' 'leon' 'transit' 'tucson' 'tt' 'qashqai'\n",
      " 'mustang' 'jazz' 'nubira' 'v70' 'duster' 'stilo' 'justy' 'kangoo' 'fabia'\n",
      " 'matiz' 'freelander' 'lancer' 'forester' 's_type' 'bravo' '500' '156'\n",
      " 'cr_reihe' 'toledo' 'kalina' 'panda' 'a8' 'ceed' 'caddy' 'aygo' 'c2'\n",
      " 'citigo' 'exeo' 'c1' 'doblo' 'impreza' '147' 'agila' 'escort' '145' 'c3'\n",
      " 'roomster' 'auris' '601' 'eos' 'aveo' 'slk' 'terios' 'fusion' 'c4' 'glk'\n",
      " 'materia' 'v50' 'combo' 'yeti' '900' '850' 'outlander' 'rio' 'jimny'\n",
      " 'forfour' 'a2' 'spider' 'kadett' 'b_klasse' 'carisma' 'cayenne' 'r19'\n",
      " 'cc' 'note' 'logan' 'xc_reihe' 'verso' 'v_klasse' 'jetta' 'c5' 'q5'\n",
      " 'getz' 'navara' 'x_type' 's60' '4_reihe' 'lybra' 'cherokee' 'q3' 'q7'\n",
      " 'roadster' 'captiva' 'cuore' '90' 'ptcruiser' 'kuga' 'x_trail' 'ypsilon'\n",
      " 'pajero' 'delta' 'rx_reihe' 'modus' 'sportage' 'calibra' 'sirion' '6er'\n",
      " 'gl' 'amarok' 'santa' '300c' 'antara' 'accord' 'crossfire' '159' 'niva'\n",
      " 'galant' 'legacy' 'defender' 'range_rover' 'juke' 'spark' 'lanos' 'v60'\n",
      " 'alhambra' 'discovery' 'range_rover_sport' 'range_rover_evoque' 'move'\n",
      " 'croma' 'g_klasse' 'lodgy' 'rangerover' '9000' 'samara' 'kappa' 'charade'\n",
      " 'i3' '200' 'b_max']\n",
      "fuel type unique:\t['lpg' 'benzin' 'diesel' nan 'cng' 'hybrid' 'elektro' 'andere']\n"
     ]
    }
   ],
   "source": [
    "# gearbox\n",
    "print('gearbox unique:\\t\\t{}'.format(autos['gearbox'].unique()))\n",
    "\n",
    "# model\n",
    "print('model unique:\\t\\t{}'.format(autos['model'].unique()))\n",
    "\n",
    "# fuel type\n",
    "print('fuel type unique:\\t{}'.format(autos['fuel_type'].unique()))"
   ]
  },
  {
   "cell_type": "markdown",
   "metadata": {},
   "source": [
    "Above we can see that both `model` and `fuel_type` have 'andere' as option, so we will input this values too, but `gearbox` doesn't, so we will drop this column."
   ]
  },
  {
   "cell_type": "code",
   "execution_count": 13,
   "metadata": {},
   "outputs": [
    {
     "data": {
      "text/plain": [
       "vehicle_type    0\n",
       "model           0\n",
       "fuel_type       0\n",
       "dtype: int64"
      ]
     },
     "execution_count": 13,
     "metadata": {},
     "output_type": "execute_result"
    }
   ],
   "source": [
    "# dropping gearbox null values\n",
    "autos = autos.drop('gearbox', axis=1)\n",
    "\n",
    "# removing gearbox from the 'null_columns' list\n",
    "null_columns = null_columns[[0, 2, 3]] \n",
    "\n",
    "# substituting the values in the other columns\n",
    "for column in null_columns:\n",
    "    autos[column] = autos[column].fillna('andere')\n",
    "    \n",
    "# checking to see if it worked\n",
    "autos[null_columns].isnull().sum()"
   ]
  },
  {
   "cell_type": "markdown",
   "metadata": {},
   "source": [
    "## 4 Exploratory analysis\n",
    "Now that we fixed the problems we saw, we are going to check the data one more time to see if there are other issues."
   ]
  },
  {
   "cell_type": "code",
   "execution_count": 14,
   "metadata": {},
   "outputs": [
    {
     "data": {
      "text/html": [
       "<div>\n",
       "<style scoped>\n",
       "    .dataframe tbody tr th:only-of-type {\n",
       "        vertical-align: middle;\n",
       "    }\n",
       "\n",
       "    .dataframe tbody tr th {\n",
       "        vertical-align: top;\n",
       "    }\n",
       "\n",
       "    .dataframe thead th {\n",
       "        text-align: right;\n",
       "    }\n",
       "</style>\n",
       "<table border=\"1\" class=\"dataframe\">\n",
       "  <thead>\n",
       "    <tr style=\"text-align: right;\">\n",
       "      <th></th>\n",
       "      <th>date_crawled</th>\n",
       "      <th>name</th>\n",
       "      <th>seller</th>\n",
       "      <th>offer_type</th>\n",
       "      <th>price</th>\n",
       "      <th>abtest</th>\n",
       "      <th>vehicle_type</th>\n",
       "      <th>registration_year</th>\n",
       "      <th>power_ps</th>\n",
       "      <th>model</th>\n",
       "      <th>odometer</th>\n",
       "      <th>registration_month</th>\n",
       "      <th>fuel_type</th>\n",
       "      <th>brand</th>\n",
       "      <th>not_repaired_damage</th>\n",
       "      <th>ad_created</th>\n",
       "      <th>n_of_pictures</th>\n",
       "      <th>postal_code</th>\n",
       "      <th>last_seen</th>\n",
       "    </tr>\n",
       "  </thead>\n",
       "  <tbody>\n",
       "    <tr>\n",
       "      <th>count</th>\n",
       "      <td>50000</td>\n",
       "      <td>50000</td>\n",
       "      <td>50000</td>\n",
       "      <td>50000</td>\n",
       "      <td>50000</td>\n",
       "      <td>50000</td>\n",
       "      <td>50000</td>\n",
       "      <td>50000.000000</td>\n",
       "      <td>50000.000000</td>\n",
       "      <td>50000</td>\n",
       "      <td>50000</td>\n",
       "      <td>50000.000000</td>\n",
       "      <td>50000</td>\n",
       "      <td>50000</td>\n",
       "      <td>50000</td>\n",
       "      <td>50000</td>\n",
       "      <td>50000.0</td>\n",
       "      <td>50000.000000</td>\n",
       "      <td>50000</td>\n",
       "    </tr>\n",
       "    <tr>\n",
       "      <th>unique</th>\n",
       "      <td>48213</td>\n",
       "      <td>38754</td>\n",
       "      <td>2</td>\n",
       "      <td>2</td>\n",
       "      <td>2357</td>\n",
       "      <td>2</td>\n",
       "      <td>8</td>\n",
       "      <td>NaN</td>\n",
       "      <td>NaN</td>\n",
       "      <td>245</td>\n",
       "      <td>13</td>\n",
       "      <td>NaN</td>\n",
       "      <td>7</td>\n",
       "      <td>40</td>\n",
       "      <td>2</td>\n",
       "      <td>76</td>\n",
       "      <td>NaN</td>\n",
       "      <td>NaN</td>\n",
       "      <td>39481</td>\n",
       "    </tr>\n",
       "    <tr>\n",
       "      <th>top</th>\n",
       "      <td>2016-04-02 15:49:30</td>\n",
       "      <td>Ford_Fiesta</td>\n",
       "      <td>privat</td>\n",
       "      <td>Angebot</td>\n",
       "      <td>$0</td>\n",
       "      <td>test</td>\n",
       "      <td>limousine</td>\n",
       "      <td>NaN</td>\n",
       "      <td>NaN</td>\n",
       "      <td>andere</td>\n",
       "      <td>150,000km</td>\n",
       "      <td>NaN</td>\n",
       "      <td>benzin</td>\n",
       "      <td>volkswagen</td>\n",
       "      <td>nein</td>\n",
       "      <td>2016-04-03 00:00:00</td>\n",
       "      <td>NaN</td>\n",
       "      <td>NaN</td>\n",
       "      <td>2016-04-07 06:17:27</td>\n",
       "    </tr>\n",
       "    <tr>\n",
       "      <th>freq</th>\n",
       "      <td>3</td>\n",
       "      <td>78</td>\n",
       "      <td>49999</td>\n",
       "      <td>49999</td>\n",
       "      <td>1421</td>\n",
       "      <td>25756</td>\n",
       "      <td>12859</td>\n",
       "      <td>NaN</td>\n",
       "      <td>NaN</td>\n",
       "      <td>6286</td>\n",
       "      <td>32424</td>\n",
       "      <td>NaN</td>\n",
       "      <td>30107</td>\n",
       "      <td>10687</td>\n",
       "      <td>45061</td>\n",
       "      <td>1946</td>\n",
       "      <td>NaN</td>\n",
       "      <td>NaN</td>\n",
       "      <td>8</td>\n",
       "    </tr>\n",
       "    <tr>\n",
       "      <th>mean</th>\n",
       "      <td>NaN</td>\n",
       "      <td>NaN</td>\n",
       "      <td>NaN</td>\n",
       "      <td>NaN</td>\n",
       "      <td>NaN</td>\n",
       "      <td>NaN</td>\n",
       "      <td>NaN</td>\n",
       "      <td>2005.073280</td>\n",
       "      <td>116.355920</td>\n",
       "      <td>NaN</td>\n",
       "      <td>NaN</td>\n",
       "      <td>5.723360</td>\n",
       "      <td>NaN</td>\n",
       "      <td>NaN</td>\n",
       "      <td>NaN</td>\n",
       "      <td>NaN</td>\n",
       "      <td>0.0</td>\n",
       "      <td>50813.627300</td>\n",
       "      <td>NaN</td>\n",
       "    </tr>\n",
       "    <tr>\n",
       "      <th>std</th>\n",
       "      <td>NaN</td>\n",
       "      <td>NaN</td>\n",
       "      <td>NaN</td>\n",
       "      <td>NaN</td>\n",
       "      <td>NaN</td>\n",
       "      <td>NaN</td>\n",
       "      <td>NaN</td>\n",
       "      <td>105.712813</td>\n",
       "      <td>209.216627</td>\n",
       "      <td>NaN</td>\n",
       "      <td>NaN</td>\n",
       "      <td>3.711984</td>\n",
       "      <td>NaN</td>\n",
       "      <td>NaN</td>\n",
       "      <td>NaN</td>\n",
       "      <td>NaN</td>\n",
       "      <td>0.0</td>\n",
       "      <td>25779.747957</td>\n",
       "      <td>NaN</td>\n",
       "    </tr>\n",
       "    <tr>\n",
       "      <th>min</th>\n",
       "      <td>NaN</td>\n",
       "      <td>NaN</td>\n",
       "      <td>NaN</td>\n",
       "      <td>NaN</td>\n",
       "      <td>NaN</td>\n",
       "      <td>NaN</td>\n",
       "      <td>NaN</td>\n",
       "      <td>1000.000000</td>\n",
       "      <td>0.000000</td>\n",
       "      <td>NaN</td>\n",
       "      <td>NaN</td>\n",
       "      <td>0.000000</td>\n",
       "      <td>NaN</td>\n",
       "      <td>NaN</td>\n",
       "      <td>NaN</td>\n",
       "      <td>NaN</td>\n",
       "      <td>0.0</td>\n",
       "      <td>1067.000000</td>\n",
       "      <td>NaN</td>\n",
       "    </tr>\n",
       "    <tr>\n",
       "      <th>25%</th>\n",
       "      <td>NaN</td>\n",
       "      <td>NaN</td>\n",
       "      <td>NaN</td>\n",
       "      <td>NaN</td>\n",
       "      <td>NaN</td>\n",
       "      <td>NaN</td>\n",
       "      <td>NaN</td>\n",
       "      <td>1999.000000</td>\n",
       "      <td>70.000000</td>\n",
       "      <td>NaN</td>\n",
       "      <td>NaN</td>\n",
       "      <td>3.000000</td>\n",
       "      <td>NaN</td>\n",
       "      <td>NaN</td>\n",
       "      <td>NaN</td>\n",
       "      <td>NaN</td>\n",
       "      <td>0.0</td>\n",
       "      <td>30451.000000</td>\n",
       "      <td>NaN</td>\n",
       "    </tr>\n",
       "    <tr>\n",
       "      <th>50%</th>\n",
       "      <td>NaN</td>\n",
       "      <td>NaN</td>\n",
       "      <td>NaN</td>\n",
       "      <td>NaN</td>\n",
       "      <td>NaN</td>\n",
       "      <td>NaN</td>\n",
       "      <td>NaN</td>\n",
       "      <td>2003.000000</td>\n",
       "      <td>105.000000</td>\n",
       "      <td>NaN</td>\n",
       "      <td>NaN</td>\n",
       "      <td>6.000000</td>\n",
       "      <td>NaN</td>\n",
       "      <td>NaN</td>\n",
       "      <td>NaN</td>\n",
       "      <td>NaN</td>\n",
       "      <td>0.0</td>\n",
       "      <td>49577.000000</td>\n",
       "      <td>NaN</td>\n",
       "    </tr>\n",
       "    <tr>\n",
       "      <th>75%</th>\n",
       "      <td>NaN</td>\n",
       "      <td>NaN</td>\n",
       "      <td>NaN</td>\n",
       "      <td>NaN</td>\n",
       "      <td>NaN</td>\n",
       "      <td>NaN</td>\n",
       "      <td>NaN</td>\n",
       "      <td>2008.000000</td>\n",
       "      <td>150.000000</td>\n",
       "      <td>NaN</td>\n",
       "      <td>NaN</td>\n",
       "      <td>9.000000</td>\n",
       "      <td>NaN</td>\n",
       "      <td>NaN</td>\n",
       "      <td>NaN</td>\n",
       "      <td>NaN</td>\n",
       "      <td>0.0</td>\n",
       "      <td>71540.000000</td>\n",
       "      <td>NaN</td>\n",
       "    </tr>\n",
       "    <tr>\n",
       "      <th>max</th>\n",
       "      <td>NaN</td>\n",
       "      <td>NaN</td>\n",
       "      <td>NaN</td>\n",
       "      <td>NaN</td>\n",
       "      <td>NaN</td>\n",
       "      <td>NaN</td>\n",
       "      <td>NaN</td>\n",
       "      <td>9999.000000</td>\n",
       "      <td>17700.000000</td>\n",
       "      <td>NaN</td>\n",
       "      <td>NaN</td>\n",
       "      <td>12.000000</td>\n",
       "      <td>NaN</td>\n",
       "      <td>NaN</td>\n",
       "      <td>NaN</td>\n",
       "      <td>NaN</td>\n",
       "      <td>0.0</td>\n",
       "      <td>99998.000000</td>\n",
       "      <td>NaN</td>\n",
       "    </tr>\n",
       "  </tbody>\n",
       "</table>\n",
       "</div>"
      ],
      "text/plain": [
       "               date_crawled         name  seller offer_type  price abtest  \\\n",
       "count                 50000        50000   50000      50000  50000  50000   \n",
       "unique                48213        38754       2          2   2357      2   \n",
       "top     2016-04-02 15:49:30  Ford_Fiesta  privat    Angebot     $0   test   \n",
       "freq                      3           78   49999      49999   1421  25756   \n",
       "mean                    NaN          NaN     NaN        NaN    NaN    NaN   \n",
       "std                     NaN          NaN     NaN        NaN    NaN    NaN   \n",
       "min                     NaN          NaN     NaN        NaN    NaN    NaN   \n",
       "25%                     NaN          NaN     NaN        NaN    NaN    NaN   \n",
       "50%                     NaN          NaN     NaN        NaN    NaN    NaN   \n",
       "75%                     NaN          NaN     NaN        NaN    NaN    NaN   \n",
       "max                     NaN          NaN     NaN        NaN    NaN    NaN   \n",
       "\n",
       "       vehicle_type  registration_year      power_ps   model   odometer  \\\n",
       "count         50000       50000.000000  50000.000000   50000      50000   \n",
       "unique            8                NaN           NaN     245         13   \n",
       "top       limousine                NaN           NaN  andere  150,000km   \n",
       "freq          12859                NaN           NaN    6286      32424   \n",
       "mean            NaN        2005.073280    116.355920     NaN        NaN   \n",
       "std             NaN         105.712813    209.216627     NaN        NaN   \n",
       "min             NaN        1000.000000      0.000000     NaN        NaN   \n",
       "25%             NaN        1999.000000     70.000000     NaN        NaN   \n",
       "50%             NaN        2003.000000    105.000000     NaN        NaN   \n",
       "75%             NaN        2008.000000    150.000000     NaN        NaN   \n",
       "max             NaN        9999.000000  17700.000000     NaN        NaN   \n",
       "\n",
       "        registration_month fuel_type       brand not_repaired_damage  \\\n",
       "count         50000.000000     50000       50000               50000   \n",
       "unique                 NaN         7          40                   2   \n",
       "top                    NaN    benzin  volkswagen                nein   \n",
       "freq                   NaN     30107       10687               45061   \n",
       "mean              5.723360       NaN         NaN                 NaN   \n",
       "std               3.711984       NaN         NaN                 NaN   \n",
       "min               0.000000       NaN         NaN                 NaN   \n",
       "25%               3.000000       NaN         NaN                 NaN   \n",
       "50%               6.000000       NaN         NaN                 NaN   \n",
       "75%               9.000000       NaN         NaN                 NaN   \n",
       "max              12.000000       NaN         NaN                 NaN   \n",
       "\n",
       "                 ad_created  n_of_pictures   postal_code            last_seen  \n",
       "count                 50000        50000.0  50000.000000                50000  \n",
       "unique                   76            NaN           NaN                39481  \n",
       "top     2016-04-03 00:00:00            NaN           NaN  2016-04-07 06:17:27  \n",
       "freq                   1946            NaN           NaN                    8  \n",
       "mean                    NaN            0.0  50813.627300                  NaN  \n",
       "std                     NaN            0.0  25779.747957                  NaN  \n",
       "min                     NaN            0.0   1067.000000                  NaN  \n",
       "25%                     NaN            0.0  30451.000000                  NaN  \n",
       "50%                     NaN            0.0  49577.000000                  NaN  \n",
       "75%                     NaN            0.0  71540.000000                  NaN  \n",
       "max                     NaN            0.0  99998.000000                  NaN  "
      ]
     },
     "execution_count": 14,
     "metadata": {},
     "output_type": "execute_result"
    }
   ],
   "source": [
    "# Looking more deeply into the data (all of it)\n",
    "autos.describe(include='all')"
   ]
  },
  {
   "cell_type": "markdown",
   "metadata": {},
   "source": [
    "As we can see above the columns `seller` and `offer_type` are really weird, since they have 2 unique values and one of them appeared 49999 times of 50000. Also the column `price` has the top amount $0 and the data is stored as text. The same happens with the odometer column.  \n",
    "\n",
    "Let's look at the `seller` and `offer_type` columns."
   ]
  },
  {
   "cell_type": "code",
   "execution_count": 15,
   "metadata": {},
   "outputs": [
    {
     "name": "stdout",
     "output_type": "stream",
     "text": [
      "'seller' unique values:\t\t['privat' 'gewerblich']\n",
      "'offer_type' unique values:\t['Angebot' 'Gesuch']\n"
     ]
    }
   ],
   "source": [
    "# Taking the unique values\n",
    "a = autos['seller'].unique()\n",
    "b = autos['offer_type'].unique()\n",
    "\n",
    "# Printing the unique values in this columns\n",
    "print(\"'seller' unique values:\\t\\t{}\\n'offer_type' unique values:\\t{}\".format(a,b))"
   ]
  },
  {
   "cell_type": "markdown",
   "metadata": {},
   "source": [
    "Looking at this words we can translate the `seller` options and see that *privat* is *private* and *gewerblich* is *commercial*. In the `offer_type` column *Angebot* is *offer* and *gesuch* is translated to *wanted* or *requested*.  \n",
    "This type of seller (gewerblich) and offer (gesuch) are not relevant (since there is only one entry of each), as well as the information for our analysis, since we will remain with two columns containing only one different entry.  \n",
    "With that in mind, we will drop both columns."
   ]
  },
  {
   "cell_type": "code",
   "execution_count": 16,
   "metadata": {},
   "outputs": [
    {
     "data": {
      "text/html": [
       "<div>\n",
       "<style scoped>\n",
       "    .dataframe tbody tr th:only-of-type {\n",
       "        vertical-align: middle;\n",
       "    }\n",
       "\n",
       "    .dataframe tbody tr th {\n",
       "        vertical-align: top;\n",
       "    }\n",
       "\n",
       "    .dataframe thead th {\n",
       "        text-align: right;\n",
       "    }\n",
       "</style>\n",
       "<table border=\"1\" class=\"dataframe\">\n",
       "  <thead>\n",
       "    <tr style=\"text-align: right;\">\n",
       "      <th></th>\n",
       "      <th>date_crawled</th>\n",
       "      <th>name</th>\n",
       "      <th>price</th>\n",
       "      <th>abtest</th>\n",
       "      <th>vehicle_type</th>\n",
       "      <th>registration_year</th>\n",
       "      <th>power_ps</th>\n",
       "      <th>model</th>\n",
       "      <th>odometer</th>\n",
       "      <th>registration_month</th>\n",
       "      <th>fuel_type</th>\n",
       "      <th>brand</th>\n",
       "      <th>not_repaired_damage</th>\n",
       "      <th>ad_created</th>\n",
       "      <th>n_of_pictures</th>\n",
       "      <th>postal_code</th>\n",
       "      <th>last_seen</th>\n",
       "    </tr>\n",
       "  </thead>\n",
       "  <tbody>\n",
       "    <tr>\n",
       "      <th>0</th>\n",
       "      <td>2016-03-26 17:47:46</td>\n",
       "      <td>Peugeot_807_160_NAVTECH_ON_BOARD</td>\n",
       "      <td>$5,000</td>\n",
       "      <td>control</td>\n",
       "      <td>bus</td>\n",
       "      <td>2004</td>\n",
       "      <td>158</td>\n",
       "      <td>andere</td>\n",
       "      <td>150,000km</td>\n",
       "      <td>3</td>\n",
       "      <td>lpg</td>\n",
       "      <td>peugeot</td>\n",
       "      <td>nein</td>\n",
       "      <td>2016-03-26 00:00:00</td>\n",
       "      <td>0</td>\n",
       "      <td>79588</td>\n",
       "      <td>2016-04-06 06:45:54</td>\n",
       "    </tr>\n",
       "    <tr>\n",
       "      <th>1</th>\n",
       "      <td>2016-04-04 13:38:56</td>\n",
       "      <td>BMW_740i_4_4_Liter_HAMANN_UMBAU_Mega_Optik</td>\n",
       "      <td>$8,500</td>\n",
       "      <td>control</td>\n",
       "      <td>limousine</td>\n",
       "      <td>1997</td>\n",
       "      <td>286</td>\n",
       "      <td>7er</td>\n",
       "      <td>150,000km</td>\n",
       "      <td>6</td>\n",
       "      <td>benzin</td>\n",
       "      <td>bmw</td>\n",
       "      <td>nein</td>\n",
       "      <td>2016-04-04 00:00:00</td>\n",
       "      <td>0</td>\n",
       "      <td>71034</td>\n",
       "      <td>2016-04-06 14:45:08</td>\n",
       "    </tr>\n",
       "    <tr>\n",
       "      <th>2</th>\n",
       "      <td>2016-03-26 18:57:24</td>\n",
       "      <td>Volkswagen_Golf_1.6_United</td>\n",
       "      <td>$8,990</td>\n",
       "      <td>test</td>\n",
       "      <td>limousine</td>\n",
       "      <td>2009</td>\n",
       "      <td>102</td>\n",
       "      <td>golf</td>\n",
       "      <td>70,000km</td>\n",
       "      <td>7</td>\n",
       "      <td>benzin</td>\n",
       "      <td>volkswagen</td>\n",
       "      <td>nein</td>\n",
       "      <td>2016-03-26 00:00:00</td>\n",
       "      <td>0</td>\n",
       "      <td>35394</td>\n",
       "      <td>2016-04-06 20:15:37</td>\n",
       "    </tr>\n",
       "    <tr>\n",
       "      <th>3</th>\n",
       "      <td>2016-03-12 16:58:10</td>\n",
       "      <td>Smart_smart_fortwo_coupe_softouch/F1/Klima/Pan...</td>\n",
       "      <td>$4,350</td>\n",
       "      <td>control</td>\n",
       "      <td>kleinwagen</td>\n",
       "      <td>2007</td>\n",
       "      <td>71</td>\n",
       "      <td>fortwo</td>\n",
       "      <td>70,000km</td>\n",
       "      <td>6</td>\n",
       "      <td>benzin</td>\n",
       "      <td>smart</td>\n",
       "      <td>nein</td>\n",
       "      <td>2016-03-12 00:00:00</td>\n",
       "      <td>0</td>\n",
       "      <td>33729</td>\n",
       "      <td>2016-03-15 03:16:28</td>\n",
       "    </tr>\n",
       "    <tr>\n",
       "      <th>4</th>\n",
       "      <td>2016-04-01 14:38:50</td>\n",
       "      <td>Ford_Focus_1_6_Benzin_TÜV_neu_ist_sehr_gepfleg...</td>\n",
       "      <td>$1,350</td>\n",
       "      <td>test</td>\n",
       "      <td>kombi</td>\n",
       "      <td>2003</td>\n",
       "      <td>0</td>\n",
       "      <td>focus</td>\n",
       "      <td>150,000km</td>\n",
       "      <td>7</td>\n",
       "      <td>benzin</td>\n",
       "      <td>ford</td>\n",
       "      <td>nein</td>\n",
       "      <td>2016-04-01 00:00:00</td>\n",
       "      <td>0</td>\n",
       "      <td>39218</td>\n",
       "      <td>2016-04-01 14:38:50</td>\n",
       "    </tr>\n",
       "  </tbody>\n",
       "</table>\n",
       "</div>"
      ],
      "text/plain": [
       "          date_crawled                                               name  \\\n",
       "0  2016-03-26 17:47:46                   Peugeot_807_160_NAVTECH_ON_BOARD   \n",
       "1  2016-04-04 13:38:56         BMW_740i_4_4_Liter_HAMANN_UMBAU_Mega_Optik   \n",
       "2  2016-03-26 18:57:24                         Volkswagen_Golf_1.6_United   \n",
       "3  2016-03-12 16:58:10  Smart_smart_fortwo_coupe_softouch/F1/Klima/Pan...   \n",
       "4  2016-04-01 14:38:50  Ford_Focus_1_6_Benzin_TÜV_neu_ist_sehr_gepfleg...   \n",
       "\n",
       "    price   abtest vehicle_type  registration_year  power_ps   model  \\\n",
       "0  $5,000  control          bus               2004       158  andere   \n",
       "1  $8,500  control    limousine               1997       286     7er   \n",
       "2  $8,990     test    limousine               2009       102    golf   \n",
       "3  $4,350  control   kleinwagen               2007        71  fortwo   \n",
       "4  $1,350     test        kombi               2003         0   focus   \n",
       "\n",
       "    odometer  registration_month fuel_type       brand not_repaired_damage  \\\n",
       "0  150,000km                   3       lpg     peugeot                nein   \n",
       "1  150,000km                   6    benzin         bmw                nein   \n",
       "2   70,000km                   7    benzin  volkswagen                nein   \n",
       "3   70,000km                   6    benzin       smart                nein   \n",
       "4  150,000km                   7    benzin        ford                nein   \n",
       "\n",
       "            ad_created  n_of_pictures  postal_code            last_seen  \n",
       "0  2016-03-26 00:00:00              0        79588  2016-04-06 06:45:54  \n",
       "1  2016-04-04 00:00:00              0        71034  2016-04-06 14:45:08  \n",
       "2  2016-03-26 00:00:00              0        35394  2016-04-06 20:15:37  \n",
       "3  2016-03-12 00:00:00              0        33729  2016-03-15 03:16:28  \n",
       "4  2016-04-01 00:00:00              0        39218  2016-04-01 14:38:50  "
      ]
     },
     "execution_count": 16,
     "metadata": {},
     "output_type": "execute_result"
    }
   ],
   "source": [
    "# dropping 'seller' and 'offer_type' columns\n",
    "autos = autos.drop(['seller','offer_type'], axis=1)\n",
    "\n",
    "autos.head()"
   ]
  },
  {
   "cell_type": "markdown",
   "metadata": {},
   "source": [
    "After that we can see that several columns need type treatment, like `price` and `odometer`. Next we will check the data types.\n",
    "## 5 Adjusting the types\n",
    "Let's take a look into the type of the columns."
   ]
  },
  {
   "cell_type": "code",
   "execution_count": 17,
   "metadata": {},
   "outputs": [
    {
     "data": {
      "text/plain": [
       "date_crawled           object\n",
       "name                   object\n",
       "price                  object\n",
       "abtest                 object\n",
       "vehicle_type           object\n",
       "registration_year       int64\n",
       "power_ps                int64\n",
       "model                  object\n",
       "odometer               object\n",
       "registration_month      int64\n",
       "fuel_type              object\n",
       "brand                  object\n",
       "not_repaired_damage    object\n",
       "ad_created             object\n",
       "n_of_pictures           int64\n",
       "postal_code             int64\n",
       "last_seen              object\n",
       "dtype: object"
      ]
     },
     "execution_count": 17,
     "metadata": {},
     "output_type": "execute_result"
    }
   ],
   "source": [
    "autos.dtypes"
   ]
  },
  {
   "cell_type": "markdown",
   "metadata": {},
   "source": [
    "Above we can see that both columns `price` and `odometer` are store as objects, as well as the data columns.  \n",
    "With that in mind next we are going to remove undesirable characters from this two columns and change entries types, as well as change the column `odometer` name to `odometer_km`, since we will remove the *km* from the entries."
   ]
  },
  {
   "cell_type": "code",
   "execution_count": 18,
   "metadata": {},
   "outputs": [
    {
     "data": {
      "text/plain": [
       "0    5000\n",
       "1    8500\n",
       "2    8990\n",
       "3    4350\n",
       "4    1350\n",
       "Name: price, dtype: int64"
      ]
     },
     "execution_count": 18,
     "metadata": {},
     "output_type": "execute_result"
    }
   ],
   "source": [
    "# Removing the chars and turning into int values in price column\n",
    "autos['price'] = autos['price'].str.replace(\"\\$\",\"\").str.replace(\"\\,\",\"\").astype(int)\n",
    "autos['price'].head()"
   ]
  },
  {
   "cell_type": "code",
   "execution_count": 19,
   "metadata": {},
   "outputs": [
    {
     "data": {
      "text/plain": [
       "0    150000\n",
       "1    150000\n",
       "2     70000\n",
       "3     70000\n",
       "4    150000\n",
       "Name: odometer_km, dtype: int64"
      ]
     },
     "execution_count": 19,
     "metadata": {},
     "output_type": "execute_result"
    }
   ],
   "source": [
    "# First let's change the column name\n",
    "autos.rename({'odometer':'odometer_km'}, axis=1, inplace=True)\n",
    "\n",
    "# Now we'll remove the chars and turn the values into flot\n",
    "autos['odometer_km'] = autos['odometer_km'].str.replace(\"km\",\"\").str.replace(\",\",\"\").astype(int)\n",
    "autos['odometer_km'].head()"
   ]
  },
  {
   "cell_type": "markdown",
   "metadata": {
    "collapsed": true
   },
   "source": [
    "Once we passed through it, we are moving on to check the specific entries.\n",
    "## 7 A closer look at special columns\n",
    "Let's use some other features to see if there is wrong data there. First we will be looking at the `price` column."
   ]
  },
  {
   "cell_type": "code",
   "execution_count": 20,
   "metadata": {},
   "outputs": [
    {
     "name": "stdout",
     "output_type": "stream",
     "text": [
      "Minimum: 0\tMaximum: 99999999\n",
      "\n",
      "Statistical resume:\n",
      "count    5.000000e+04\n",
      "mean     9.840044e+03\n",
      "std      4.811044e+05\n",
      "min      0.000000e+00\n",
      "25%      1.100000e+03\n",
      "50%      2.950000e+03\n",
      "75%      7.200000e+03\n",
      "max      1.000000e+08\n",
      "Name: price, dtype: float64\n",
      "\n",
      "Unique values:\n",
      "(2357,)\n"
     ]
    }
   ],
   "source": [
    "# Printing minimum and maximum values\n",
    "min_value = autos['price'].min()\n",
    "max_value = autos['price'].max()\n",
    "print(\"Minimum: {}\\tMaximum: {}\\n\".format(min_value, max_value))\n",
    "\n",
    "# Printing a statistical resume\n",
    "print(\"Statistical resume:\")\n",
    "print(autos['price'].describe())\n",
    "\n",
    "# Printing the amount of unique values\n",
    "print(\"\\nUnique values:\")\n",
    "print(autos['price'].unique().shape)"
   ]
  },
  {
   "cell_type": "markdown",
   "metadata": {},
   "source": [
    "As we can see above the information is displayed in scientific notation, to fix that we are going to quickly change the display format of float numbers in pandas with `options.display.float_format` method. We will change it to 3 decimal cases and put a comma to mark the thousands."
   ]
  },
  {
   "cell_type": "code",
   "execution_count": 21,
   "metadata": {},
   "outputs": [],
   "source": [
    "# Changing the format to show just 3 decimal cases\n",
    "pd.options.display.float_format = '{:,.3f}'.format\n",
    "\n",
    "# We can change it back later, if we want to, with:\n",
    "# pd.reset_option('^display.', silent=True)"
   ]
  },
  {
   "cell_type": "markdown",
   "metadata": {},
   "source": [
    "Reprinting it:"
   ]
  },
  {
   "cell_type": "code",
   "execution_count": 22,
   "metadata": {},
   "outputs": [
    {
     "name": "stdout",
     "output_type": "stream",
     "text": [
      "Statistical resume:\n",
      "count       50,000.000\n",
      "mean         9,840.044\n",
      "std        481,104.381\n",
      "min              0.000\n",
      "25%          1,100.000\n",
      "50%          2,950.000\n",
      "75%          7,200.000\n",
      "max     99,999,999.000\n",
      "Name: price, dtype: float64\n"
     ]
    }
   ],
   "source": [
    "# The statistical resume\n",
    "print(\"Statistical resume:\")\n",
    "print(autos['price'].describe())"
   ]
  },
  {
   "cell_type": "markdown",
   "metadata": {},
   "source": [
    "The next step will be to see the most common and uncommon values in our dataset."
   ]
  },
  {
   "cell_type": "code",
   "execution_count": 23,
   "metadata": {
    "scrolled": false
   },
   "outputs": [
    {
     "name": "stdout",
     "output_type": "stream",
     "text": [
      "Higher prices frequency:\n",
      "99999999    1\n",
      "27322222    1\n",
      "12345678    3\n",
      "11111111    2\n",
      "10000000    1\n",
      "3890000     1\n",
      "1300000     1\n",
      "1234566     1\n",
      "999999      2\n",
      "999990      1\n",
      "350000      1\n",
      "345000      1\n",
      "299000      1\n",
      "295000      1\n",
      "265000      1\n",
      "Name: price, dtype: int64 \n",
      "\n",
      "Lower prices frequency:\n",
      "0     1421\n",
      "1      156\n",
      "2        3\n",
      "3        1\n",
      "5        2\n",
      "8        1\n",
      "9        1\n",
      "10       7\n",
      "11       2\n",
      "12       3\n",
      "13       2\n",
      "14       1\n",
      "15       2\n",
      "17       3\n",
      "18       1\n",
      "Name: price, dtype: int64\n"
     ]
    }
   ],
   "source": [
    "# Counting the unique values and displaying it ascending\n",
    "high_values = autos['price'].value_counts().sort_index(ascending=False).head(15)\n",
    "\n",
    "# Counting the unique values and displaying it descending\n",
    "low_values = autos['price'].value_counts().sort_index(ascending=True).head(15)\n",
    "\n",
    "# Printing our results\n",
    "print(\"Higher prices frequency:\\n{} \\n\\nLower prices frequency:\\n{}\".format(high_values,low_values))"
   ]
  },
  {
   "cell_type": "markdown",
   "metadata": {
    "collapsed": true
   },
   "source": [
    "As we can see above the price values doesn't seem very reliable. To take a better look at this information, let's see the car price frequency divided by categories.  \n",
    "We will create 7 categories that represent real prices.\n",
    "* until 100 dollars\n",
    "* between 100 and 500 dollars\n",
    "* 500 to 1000 dollars\n",
    "* 1000 to 10000\n",
    "* 10000 to 300000 dollars\n",
    "* 300000 to 500000 dollars\n",
    "* more than 500000  \n",
    "\n",
    "Let's see how this categories behave. We will change them and test them as well to truly understand how this prices work."
   ]
  },
  {
   "cell_type": "code",
   "execution_count": 24,
   "metadata": {},
   "outputs": [
    {
     "data": {
      "text/plain": [
       "(49997999.5, 49999999.5]            0\n",
       "(66535999.335, 66537999.335]        0\n",
       "(66537999.335, 66539999.335]        0\n",
       "(66539999.335, 66541999.335]        0\n",
       "(66541999.335, 66543999.335]        0\n",
       "                                ...  \n",
       "(8000.0, 10000.0]                2809\n",
       "(6000.0, 8000.0]                 3891\n",
       "(4000.0, 6000.0]                 5402\n",
       "(2000.0, 4000.0]                 9823\n",
       "(-100000.0, 2000.0]             19894\n",
       "Name: price, Length: 50000, dtype: int64"
      ]
     },
     "execution_count": 24,
     "metadata": {},
     "output_type": "execute_result"
    }
   ],
   "source": [
    "autos['price'].value_counts(bins=50000, ascending=True)"
   ]
  },
  {
   "cell_type": "code",
   "execution_count": 25,
   "metadata": {},
   "outputs": [
    {
     "data": {
      "text/plain": [
       "{'cat_1': 1896,\n",
       " 'cat_2': 3774,\n",
       " 'cat_3': 6329,\n",
       " 'cat_4': 29928,\n",
       " 'cat_5': 8057,\n",
       " 'cat_6': 2,\n",
       " 'cat_7': 14}"
      ]
     },
     "execution_count": 25,
     "metadata": {},
     "output_type": "execute_result"
    }
   ],
   "source": [
    "# Creating the empty dictionary\n",
    "categories = {'cat_1':0, 'cat_2':0, 'cat_3':0, 'cat_4':0, 'cat_5':0,\n",
    "              'cat_6':0, 'cat_7':0}\n",
    "\n",
    "# Populating it\n",
    "for row in autos['price']:\n",
    "    if row <= 100:\n",
    "        categories['cat_1'] += 1\n",
    "    elif 100 < row <= 500:\n",
    "        categories['cat_2'] += 1\n",
    "    elif 500 < row <= 1000:\n",
    "        categories['cat_3'] += 1\n",
    "    elif 1000 < row <= 10000:\n",
    "        categories['cat_4'] += 1\n",
    "    elif 10000 < row <= 300000:\n",
    "        categories['cat_5'] += 1\n",
    "    elif 300000 < row <= 500000:\n",
    "        categories['cat_6'] += 1\n",
    "    else:\n",
    "        categories['cat_7'] += 1\n",
    "    \n",
    "        \n",
    "categories"
   ]
  },
  {
   "cell_type": "markdown",
   "metadata": {},
   "source": [
    "We can see above that the two last categories have 16 values together, so we can try to change the maximum value we chose. We'll change the categories to see how they will behave above:"
   ]
  },
  {
   "cell_type": "code",
   "execution_count": 26,
   "metadata": {},
   "outputs": [
    {
     "data": {
      "text/plain": [
       "{'cat_1': 1592, 'cat_2': 40335, 'cat_3': 8051, 'cat_4': 8, 'cat_5': 14}"
      ]
     },
     "execution_count": 26,
     "metadata": {},
     "output_type": "execute_result"
    }
   ],
   "source": [
    "# Creating the new empty dictionary\n",
    "categories_new = {'cat_1':0, 'cat_2':0, 'cat_3':0, 'cat_4':0, 'cat_5':0}\n",
    "\n",
    "# Populating with the new experimental categories\n",
    "for row in autos['price']:\n",
    "    if row <= 10:\n",
    "        categories_new['cat_1'] += 1\n",
    "    elif 10 < row <= 10000:\n",
    "        categories_new['cat_2'] += 1\n",
    "    elif 10000 < row <= 200000:\n",
    "        categories_new['cat_3'] += 1\n",
    "    elif 200000 < row <= 350000:\n",
    "        categories_new['cat_4'] += 1\n",
    "    else:\n",
    "        categories_new['cat_5'] += 1\n",
    "    \n",
    "        \n",
    "categories_new"
   ]
  },
  {
   "cell_type": "markdown",
   "metadata": {},
   "source": [
    "In the higher ones we can see that there's a jump from 350,000 dollars to 999,990 dollars, this results in 649,990 difference. This is probably what is affecting our standard deviation (481,104.381 is a very high number). Since there are only 14 values above 350,000 (representing less than 0.5% of our data) we are going to remove it.   \n",
    "We will also remove the car prices that are less than 10 dollars, there are 1592, representing less than 4% of it.  \n",
    "The car prices above 10 dollars will be maintained, since we cannot know if they are real prices or something else, we could say that is absurd a car that costs 15 dollars but we could not say for sure it is impossible. The 10 dollar maximum was set to remove the entries where people doesn't put any price so others could talk to them to know it, and we are not interested in that."
   ]
  },
  {
   "cell_type": "code",
   "execution_count": 27,
   "metadata": {
    "scrolled": true
   },
   "outputs": [
    {
     "data": {
      "text/html": [
       "<div>\n",
       "<style scoped>\n",
       "    .dataframe tbody tr th:only-of-type {\n",
       "        vertical-align: middle;\n",
       "    }\n",
       "\n",
       "    .dataframe tbody tr th {\n",
       "        vertical-align: top;\n",
       "    }\n",
       "\n",
       "    .dataframe thead th {\n",
       "        text-align: right;\n",
       "    }\n",
       "</style>\n",
       "<table border=\"1\" class=\"dataframe\">\n",
       "  <thead>\n",
       "    <tr style=\"text-align: right;\">\n",
       "      <th></th>\n",
       "      <th>price</th>\n",
       "      <th>registration_year</th>\n",
       "      <th>power_ps</th>\n",
       "      <th>odometer_km</th>\n",
       "      <th>registration_month</th>\n",
       "      <th>n_of_pictures</th>\n",
       "      <th>postal_code</th>\n",
       "    </tr>\n",
       "  </thead>\n",
       "  <tbody>\n",
       "    <tr>\n",
       "      <th>count</th>\n",
       "      <td>48,401.000</td>\n",
       "      <td>48,401.000</td>\n",
       "      <td>48,401.000</td>\n",
       "      <td>48,401.000</td>\n",
       "      <td>48,401.000</td>\n",
       "      <td>48,401.000</td>\n",
       "      <td>48,401.000</td>\n",
       "    </tr>\n",
       "    <tr>\n",
       "      <th>mean</th>\n",
       "      <td>5,908.885</td>\n",
       "      <td>2,004.775</td>\n",
       "      <td>117.362</td>\n",
       "      <td>125,799.570</td>\n",
       "      <td>5.791</td>\n",
       "      <td>0.000</td>\n",
       "      <td>50,993.775</td>\n",
       "    </tr>\n",
       "    <tr>\n",
       "      <th>std</th>\n",
       "      <td>9,068.695</td>\n",
       "      <td>88.790</td>\n",
       "      <td>200.924</td>\n",
       "      <td>39,722.502</td>\n",
       "      <td>3.682</td>\n",
       "      <td>0.000</td>\n",
       "      <td>25,744.824</td>\n",
       "    </tr>\n",
       "    <tr>\n",
       "      <th>min</th>\n",
       "      <td>10.000</td>\n",
       "      <td>1,000.000</td>\n",
       "      <td>0.000</td>\n",
       "      <td>5,000.000</td>\n",
       "      <td>0.000</td>\n",
       "      <td>0.000</td>\n",
       "      <td>1,067.000</td>\n",
       "    </tr>\n",
       "    <tr>\n",
       "      <th>25%</th>\n",
       "      <td>1,250.000</td>\n",
       "      <td>1,999.000</td>\n",
       "      <td>72.000</td>\n",
       "      <td>125,000.000</td>\n",
       "      <td>3.000</td>\n",
       "      <td>0.000</td>\n",
       "      <td>30,823.000</td>\n",
       "    </tr>\n",
       "    <tr>\n",
       "      <th>50%</th>\n",
       "      <td>3,000.000</td>\n",
       "      <td>2,004.000</td>\n",
       "      <td>107.000</td>\n",
       "      <td>150,000.000</td>\n",
       "      <td>6.000</td>\n",
       "      <td>0.000</td>\n",
       "      <td>49,733.000</td>\n",
       "    </tr>\n",
       "    <tr>\n",
       "      <th>75%</th>\n",
       "      <td>7,498.000</td>\n",
       "      <td>2,008.000</td>\n",
       "      <td>150.000</td>\n",
       "      <td>150,000.000</td>\n",
       "      <td>9.000</td>\n",
       "      <td>0.000</td>\n",
       "      <td>71,679.000</td>\n",
       "    </tr>\n",
       "    <tr>\n",
       "      <th>max</th>\n",
       "      <td>350,000.000</td>\n",
       "      <td>9,999.000</td>\n",
       "      <td>17,700.000</td>\n",
       "      <td>150,000.000</td>\n",
       "      <td>12.000</td>\n",
       "      <td>0.000</td>\n",
       "      <td>99,998.000</td>\n",
       "    </tr>\n",
       "  </tbody>\n",
       "</table>\n",
       "</div>"
      ],
      "text/plain": [
       "            price  registration_year   power_ps  odometer_km  \\\n",
       "count  48,401.000         48,401.000 48,401.000   48,401.000   \n",
       "mean    5,908.885          2,004.775    117.362  125,799.570   \n",
       "std     9,068.695             88.790    200.924   39,722.502   \n",
       "min        10.000          1,000.000      0.000    5,000.000   \n",
       "25%     1,250.000          1,999.000     72.000  125,000.000   \n",
       "50%     3,000.000          2,004.000    107.000  150,000.000   \n",
       "75%     7,498.000          2,008.000    150.000  150,000.000   \n",
       "max   350,000.000          9,999.000 17,700.000  150,000.000   \n",
       "\n",
       "       registration_month  n_of_pictures  postal_code  \n",
       "count          48,401.000     48,401.000   48,401.000  \n",
       "mean                5.791          0.000   50,993.775  \n",
       "std                 3.682          0.000   25,744.824  \n",
       "min                 0.000          0.000    1,067.000  \n",
       "25%                 3.000          0.000   30,823.000  \n",
       "50%                 6.000          0.000   49,733.000  \n",
       "75%                 9.000          0.000   71,679.000  \n",
       "max                12.000          0.000   99,998.000  "
      ]
     },
     "execution_count": 27,
     "metadata": {},
     "output_type": "execute_result"
    }
   ],
   "source": [
    "# Rewriting the dataset only with the rows we want\n",
    "autos = autos.loc[autos['price'].between(10, 350000), :]\n",
    "autos.describe()"
   ]
  },
  {
   "cell_type": "markdown",
   "metadata": {},
   "source": [
    "Now we'll keep investigating another column. The **odometer_km** column.  \n",
    "Let's do the same thing we did to the price column."
   ]
  },
  {
   "cell_type": "code",
   "execution_count": 28,
   "metadata": {},
   "outputs": [
    {
     "name": "stdout",
     "output_type": "stream",
     "text": [
      "Minimum: 5000\tMaximum: 150000\n",
      "\n",
      "Satatistical resume:\n",
      "count    48,401.000\n",
      "mean    125,799.570\n",
      "std      39,722.502\n",
      "min       5,000.000\n",
      "25%     125,000.000\n",
      "50%     150,000.000\n",
      "75%     150,000.000\n",
      "max     150,000.000\n",
      "Name: odometer_km, dtype: float64\n",
      "\n",
      "Unique values:\n",
      "(13,)\n"
     ]
    }
   ],
   "source": [
    "# Printing minimum and maximum values\n",
    "min_value = autos['odometer_km'].min()\n",
    "max_value = autos['odometer_km'].max()\n",
    "print(\"Minimum: {}\\tMaximum: {}\\n\".format(min_value, max_value))\n",
    "\n",
    "# Printing a statistical resume\n",
    "print(\"Satatistical resume:\")\n",
    "print(autos['odometer_km'].describe())\n",
    "\n",
    "# Printing the amount of unique values\n",
    "print(\"\\nUnique values:\")\n",
    "print(autos['odometer_km'].unique().shape)"
   ]
  },
  {
   "cell_type": "markdown",
   "metadata": {},
   "source": [
    "Now we will print the frequency of each unique value, to see how it is."
   ]
  },
  {
   "cell_type": "code",
   "execution_count": 29,
   "metadata": {},
   "outputs": [
    {
     "data": {
      "text/plain": [
       "5000        811\n",
       "10000       250\n",
       "20000       761\n",
       "30000       779\n",
       "40000       815\n",
       "50000      1011\n",
       "60000      1154\n",
       "70000      1215\n",
       "80000      1414\n",
       "90000      1733\n",
       "100000     2108\n",
       "125000     5046\n",
       "150000    31304\n",
       "Name: odometer_km, dtype: int64"
      ]
     },
     "execution_count": 29,
     "metadata": {},
     "output_type": "execute_result"
    }
   ],
   "source": [
    "# Printing the frequency\n",
    "autos['odometer_km'].value_counts().sort_index(ascending=True)"
   ]
  },
  {
   "cell_type": "markdown",
   "metadata": {},
   "source": [
    "It seems fine, so it will stay as it is.\n",
    "\n",
    "## 8 Cleaning our date columns\n",
    "Now we are going to see how the date columns are formatted, how the data behaves and see if we need to drop any rows or correct any possible wrong entries.  \n",
    "Let's start printing our date columns:"
   ]
  },
  {
   "cell_type": "code",
   "execution_count": 30,
   "metadata": {
    "scrolled": true
   },
   "outputs": [
    {
     "data": {
      "text/html": [
       "<div>\n",
       "<style scoped>\n",
       "    .dataframe tbody tr th:only-of-type {\n",
       "        vertical-align: middle;\n",
       "    }\n",
       "\n",
       "    .dataframe tbody tr th {\n",
       "        vertical-align: top;\n",
       "    }\n",
       "\n",
       "    .dataframe thead th {\n",
       "        text-align: right;\n",
       "    }\n",
       "</style>\n",
       "<table border=\"1\" class=\"dataframe\">\n",
       "  <thead>\n",
       "    <tr style=\"text-align: right;\">\n",
       "      <th></th>\n",
       "      <th>date_crawled</th>\n",
       "      <th>last_seen</th>\n",
       "      <th>ad_created</th>\n",
       "      <th>registration_month</th>\n",
       "      <th>registration_year</th>\n",
       "    </tr>\n",
       "  </thead>\n",
       "  <tbody>\n",
       "    <tr>\n",
       "      <th>0</th>\n",
       "      <td>2016-03-26 17:47:46</td>\n",
       "      <td>2016-04-06 06:45:54</td>\n",
       "      <td>2016-03-26 00:00:00</td>\n",
       "      <td>3</td>\n",
       "      <td>2004</td>\n",
       "    </tr>\n",
       "    <tr>\n",
       "      <th>1</th>\n",
       "      <td>2016-04-04 13:38:56</td>\n",
       "      <td>2016-04-06 14:45:08</td>\n",
       "      <td>2016-04-04 00:00:00</td>\n",
       "      <td>6</td>\n",
       "      <td>1997</td>\n",
       "    </tr>\n",
       "    <tr>\n",
       "      <th>2</th>\n",
       "      <td>2016-03-26 18:57:24</td>\n",
       "      <td>2016-04-06 20:15:37</td>\n",
       "      <td>2016-03-26 00:00:00</td>\n",
       "      <td>7</td>\n",
       "      <td>2009</td>\n",
       "    </tr>\n",
       "    <tr>\n",
       "      <th>3</th>\n",
       "      <td>2016-03-12 16:58:10</td>\n",
       "      <td>2016-03-15 03:16:28</td>\n",
       "      <td>2016-03-12 00:00:00</td>\n",
       "      <td>6</td>\n",
       "      <td>2007</td>\n",
       "    </tr>\n",
       "    <tr>\n",
       "      <th>4</th>\n",
       "      <td>2016-04-01 14:38:50</td>\n",
       "      <td>2016-04-01 14:38:50</td>\n",
       "      <td>2016-04-01 00:00:00</td>\n",
       "      <td>7</td>\n",
       "      <td>2003</td>\n",
       "    </tr>\n",
       "    <tr>\n",
       "      <th>5</th>\n",
       "      <td>2016-03-21 13:47:45</td>\n",
       "      <td>2016-04-06 09:45:21</td>\n",
       "      <td>2016-03-21 00:00:00</td>\n",
       "      <td>4</td>\n",
       "      <td>2006</td>\n",
       "    </tr>\n",
       "  </tbody>\n",
       "</table>\n",
       "</div>"
      ],
      "text/plain": [
       "          date_crawled            last_seen           ad_created  \\\n",
       "0  2016-03-26 17:47:46  2016-04-06 06:45:54  2016-03-26 00:00:00   \n",
       "1  2016-04-04 13:38:56  2016-04-06 14:45:08  2016-04-04 00:00:00   \n",
       "2  2016-03-26 18:57:24  2016-04-06 20:15:37  2016-03-26 00:00:00   \n",
       "3  2016-03-12 16:58:10  2016-03-15 03:16:28  2016-03-12 00:00:00   \n",
       "4  2016-04-01 14:38:50  2016-04-01 14:38:50  2016-04-01 00:00:00   \n",
       "5  2016-03-21 13:47:45  2016-04-06 09:45:21  2016-03-21 00:00:00   \n",
       "\n",
       "   registration_month  registration_year  \n",
       "0                   3               2004  \n",
       "1                   6               1997  \n",
       "2                   7               2009  \n",
       "3                   6               2007  \n",
       "4                   7               2003  \n",
       "5                   4               2006  "
      ]
     },
     "execution_count": 30,
     "metadata": {},
     "output_type": "execute_result"
    }
   ],
   "source": [
    "# Printing all date columns\n",
    "autos.loc[:5, ['date_crawled', 'last_seen', 'ad_created', 'registration_month', 'registration_year']]"
   ]
  },
  {
   "cell_type": "markdown",
   "metadata": {},
   "source": [
    "As we cans ee above the 'registration_month' and 'registration_year' columns are already numbers so let's analyze the content already."
   ]
  },
  {
   "cell_type": "code",
   "execution_count": 31,
   "metadata": {},
   "outputs": [
    {
     "data": {
      "text/plain": [
       "array([ 3,  6,  7,  4,  8, 12, 10,  0,  9, 11,  5,  2,  1])"
      ]
     },
     "execution_count": 31,
     "metadata": {},
     "output_type": "execute_result"
    }
   ],
   "source": [
    "# Checking if there are more than 12 months\n",
    "autos['registration_month'].unique()"
   ]
  },
  {
   "cell_type": "markdown",
   "metadata": {},
   "source": [
    "Everything seems normal, so let's move to the year column."
   ]
  },
  {
   "cell_type": "code",
   "execution_count": 32,
   "metadata": {},
   "outputs": [
    {
     "data": {
      "text/plain": [
       "array([2004, 1997, 2009, 2007, 2003, 2006, 1995, 1998, 2000, 2017, 2010,\n",
       "       1999, 1982, 1990, 2015, 2014, 1996, 1992, 2002, 2012, 2011, 2005,\n",
       "       2008, 1985, 2016, 1994, 1986, 2001, 2018, 2013, 1972, 1993, 1988,\n",
       "       1989, 1973, 1967, 1976, 4500, 1987, 1991, 1983, 1960, 1969, 1978,\n",
       "       1980, 1984, 1963, 1977, 1961, 1968, 1934, 1965, 1971, 1966, 1979,\n",
       "       1981, 1970, 1974, 1975, 5000, 4100, 2019, 1956, 9999, 6200, 1964,\n",
       "       1959, 1958, 1800, 1948, 1931, 1943, 1941, 1950, 1962, 1927, 1937,\n",
       "       1929, 1000, 1910, 1957, 1952, 1111, 1955, 1939, 8888, 1954, 1938,\n",
       "       2800, 5911, 1953, 1951, 4800, 1001, 9000])"
      ]
     },
     "execution_count": 32,
     "metadata": {},
     "output_type": "execute_result"
    }
   ],
   "source": [
    "# Checking the unique values from the year column\n",
    "autos['registration_year'].unique()"
   ]
  },
  {
   "cell_type": "markdown",
   "metadata": {},
   "source": [
    "We can see clearly that there are years that make no sense at all, like 9000, 4800 or any year greater than 2018, since 2016 is the year the data was crawled (maybe we can use some of this data, let's see bellow what percentage it is). Also makes no sense to take values from less than 1900, they will be removed too. With that in mind lets drop this rows."
   ]
  },
  {
   "cell_type": "code",
   "execution_count": 33,
   "metadata": {},
   "outputs": [
    {
     "data": {
      "text/html": [
       "<div>\n",
       "<style scoped>\n",
       "    .dataframe tbody tr th:only-of-type {\n",
       "        vertical-align: middle;\n",
       "    }\n",
       "\n",
       "    .dataframe tbody tr th {\n",
       "        vertical-align: top;\n",
       "    }\n",
       "\n",
       "    .dataframe thead th {\n",
       "        text-align: right;\n",
       "    }\n",
       "</style>\n",
       "<table border=\"1\" class=\"dataframe\">\n",
       "  <thead>\n",
       "    <tr style=\"text-align: right;\">\n",
       "      <th></th>\n",
       "      <th>date_crawled</th>\n",
       "      <th>name</th>\n",
       "      <th>price</th>\n",
       "      <th>abtest</th>\n",
       "      <th>vehicle_type</th>\n",
       "      <th>registration_year</th>\n",
       "      <th>power_ps</th>\n",
       "      <th>model</th>\n",
       "      <th>odometer_km</th>\n",
       "      <th>registration_month</th>\n",
       "      <th>fuel_type</th>\n",
       "      <th>brand</th>\n",
       "      <th>not_repaired_damage</th>\n",
       "      <th>ad_created</th>\n",
       "      <th>n_of_pictures</th>\n",
       "      <th>postal_code</th>\n",
       "      <th>last_seen</th>\n",
       "    </tr>\n",
       "  </thead>\n",
       "  <tbody>\n",
       "    <tr>\n",
       "      <th>0</th>\n",
       "      <td>2016-03-26 17:47:46</td>\n",
       "      <td>Peugeot_807_160_NAVTECH_ON_BOARD</td>\n",
       "      <td>5000</td>\n",
       "      <td>control</td>\n",
       "      <td>bus</td>\n",
       "      <td>2004</td>\n",
       "      <td>158</td>\n",
       "      <td>andere</td>\n",
       "      <td>150000</td>\n",
       "      <td>3</td>\n",
       "      <td>lpg</td>\n",
       "      <td>peugeot</td>\n",
       "      <td>nein</td>\n",
       "      <td>2016-03-26 00:00:00</td>\n",
       "      <td>0</td>\n",
       "      <td>79588</td>\n",
       "      <td>2016-04-06 06:45:54</td>\n",
       "    </tr>\n",
       "    <tr>\n",
       "      <th>1</th>\n",
       "      <td>2016-04-04 13:38:56</td>\n",
       "      <td>BMW_740i_4_4_Liter_HAMANN_UMBAU_Mega_Optik</td>\n",
       "      <td>8500</td>\n",
       "      <td>control</td>\n",
       "      <td>limousine</td>\n",
       "      <td>1997</td>\n",
       "      <td>286</td>\n",
       "      <td>7er</td>\n",
       "      <td>150000</td>\n",
       "      <td>6</td>\n",
       "      <td>benzin</td>\n",
       "      <td>bmw</td>\n",
       "      <td>nein</td>\n",
       "      <td>2016-04-04 00:00:00</td>\n",
       "      <td>0</td>\n",
       "      <td>71034</td>\n",
       "      <td>2016-04-06 14:45:08</td>\n",
       "    </tr>\n",
       "    <tr>\n",
       "      <th>2</th>\n",
       "      <td>2016-03-26 18:57:24</td>\n",
       "      <td>Volkswagen_Golf_1.6_United</td>\n",
       "      <td>8990</td>\n",
       "      <td>test</td>\n",
       "      <td>limousine</td>\n",
       "      <td>2009</td>\n",
       "      <td>102</td>\n",
       "      <td>golf</td>\n",
       "      <td>70000</td>\n",
       "      <td>7</td>\n",
       "      <td>benzin</td>\n",
       "      <td>volkswagen</td>\n",
       "      <td>nein</td>\n",
       "      <td>2016-03-26 00:00:00</td>\n",
       "      <td>0</td>\n",
       "      <td>35394</td>\n",
       "      <td>2016-04-06 20:15:37</td>\n",
       "    </tr>\n",
       "    <tr>\n",
       "      <th>3</th>\n",
       "      <td>2016-03-12 16:58:10</td>\n",
       "      <td>Smart_smart_fortwo_coupe_softouch/F1/Klima/Pan...</td>\n",
       "      <td>4350</td>\n",
       "      <td>control</td>\n",
       "      <td>kleinwagen</td>\n",
       "      <td>2007</td>\n",
       "      <td>71</td>\n",
       "      <td>fortwo</td>\n",
       "      <td>70000</td>\n",
       "      <td>6</td>\n",
       "      <td>benzin</td>\n",
       "      <td>smart</td>\n",
       "      <td>nein</td>\n",
       "      <td>2016-03-12 00:00:00</td>\n",
       "      <td>0</td>\n",
       "      <td>33729</td>\n",
       "      <td>2016-03-15 03:16:28</td>\n",
       "    </tr>\n",
       "    <tr>\n",
       "      <th>4</th>\n",
       "      <td>2016-04-01 14:38:50</td>\n",
       "      <td>Ford_Focus_1_6_Benzin_TÜV_neu_ist_sehr_gepfleg...</td>\n",
       "      <td>1350</td>\n",
       "      <td>test</td>\n",
       "      <td>kombi</td>\n",
       "      <td>2003</td>\n",
       "      <td>0</td>\n",
       "      <td>focus</td>\n",
       "      <td>150000</td>\n",
       "      <td>7</td>\n",
       "      <td>benzin</td>\n",
       "      <td>ford</td>\n",
       "      <td>nein</td>\n",
       "      <td>2016-04-01 00:00:00</td>\n",
       "      <td>0</td>\n",
       "      <td>39218</td>\n",
       "      <td>2016-04-01 14:38:50</td>\n",
       "    </tr>\n",
       "  </tbody>\n",
       "</table>\n",
       "</div>"
      ],
      "text/plain": [
       "          date_crawled                                               name  \\\n",
       "0  2016-03-26 17:47:46                   Peugeot_807_160_NAVTECH_ON_BOARD   \n",
       "1  2016-04-04 13:38:56         BMW_740i_4_4_Liter_HAMANN_UMBAU_Mega_Optik   \n",
       "2  2016-03-26 18:57:24                         Volkswagen_Golf_1.6_United   \n",
       "3  2016-03-12 16:58:10  Smart_smart_fortwo_coupe_softouch/F1/Klima/Pan...   \n",
       "4  2016-04-01 14:38:50  Ford_Focus_1_6_Benzin_TÜV_neu_ist_sehr_gepfleg...   \n",
       "\n",
       "   price   abtest vehicle_type  registration_year  power_ps   model  \\\n",
       "0   5000  control          bus               2004       158  andere   \n",
       "1   8500  control    limousine               1997       286     7er   \n",
       "2   8990     test    limousine               2009       102    golf   \n",
       "3   4350  control   kleinwagen               2007        71  fortwo   \n",
       "4   1350     test        kombi               2003         0   focus   \n",
       "\n",
       "   odometer_km  registration_month fuel_type       brand not_repaired_damage  \\\n",
       "0       150000                   3       lpg     peugeot                nein   \n",
       "1       150000                   6    benzin         bmw                nein   \n",
       "2        70000                   7    benzin  volkswagen                nein   \n",
       "3        70000                   6    benzin       smart                nein   \n",
       "4       150000                   7    benzin        ford                nein   \n",
       "\n",
       "            ad_created  n_of_pictures  postal_code            last_seen  \n",
       "0  2016-03-26 00:00:00              0        79588  2016-04-06 06:45:54  \n",
       "1  2016-04-04 00:00:00              0        71034  2016-04-06 14:45:08  \n",
       "2  2016-03-26 00:00:00              0        35394  2016-04-06 20:15:37  \n",
       "3  2016-03-12 00:00:00              0        33729  2016-03-15 03:16:28  \n",
       "4  2016-04-01 00:00:00              0        39218  2016-04-01 14:38:50  "
      ]
     },
     "execution_count": 33,
     "metadata": {},
     "output_type": "execute_result"
    }
   ],
   "source": [
    "autos = autos.loc[autos['registration_year'].between(1900,2018)]\n",
    "autos.head()"
   ]
  },
  {
   "cell_type": "markdown",
   "metadata": {},
   "source": [
    "Next we will configure the columns with data unformatted and make a frequency table with them."
   ]
  },
  {
   "cell_type": "code",
   "execution_count": 34,
   "metadata": {
    "scrolled": true
   },
   "outputs": [
    {
     "name": "stdout",
     "output_type": "stream",
     "text": [
      "date_crawled:\n",
      "2016-03-05   2.534\n",
      "2016-03-06   1.406\n",
      "2016-03-07   3.607\n",
      "2016-03-08   3.328\n",
      "2016-03-09   3.305\n",
      "2016-03-10   3.222\n",
      "2016-03-11   3.260\n",
      "2016-03-12   3.696\n",
      "2016-03-13   1.567\n",
      "2016-03-14   3.665\n",
      "2016-03-15   3.427\n",
      "2016-03-16   2.952\n",
      "2016-03-17   3.158\n",
      "2016-03-18   1.292\n",
      "2016-03-19   3.477\n",
      "2016-03-20   3.781\n",
      "2016-03-21   3.731\n",
      "2016-03-22   3.295\n",
      "2016-03-23   3.225\n",
      "2016-03-24   2.941\n",
      "2016-03-25   3.158\n",
      "2016-03-26   3.227\n",
      "2016-03-27   3.113\n",
      "2016-03-28   3.483\n",
      "2016-03-29   3.406\n",
      "2016-03-30   3.375\n",
      "2016-03-31   3.181\n",
      "2016-04-01   3.371\n",
      "2016-04-02   3.549\n",
      "2016-04-03   3.857\n",
      "2016-04-04   3.648\n",
      "2016-04-05   1.308\n",
      "2016-04-06   0.316\n",
      "2016-04-07   0.138\n",
      "Name: date_crawled, dtype: float64\n",
      "\n",
      "last_seen:\n",
      "2016-03-05    0.107\n",
      "2016-03-06    0.432\n",
      "2016-03-07    0.542\n",
      "2016-03-08    0.736\n",
      "2016-03-09    0.963\n",
      "2016-03-10    1.062\n",
      "2016-03-11    1.238\n",
      "2016-03-12    2.377\n",
      "2016-03-13    0.887\n",
      "2016-03-14    1.263\n",
      "2016-03-15    1.587\n",
      "2016-03-16    1.645\n",
      "2016-03-17    2.805\n",
      "2016-03-18    0.734\n",
      "2016-03-19    1.581\n",
      "2016-03-20    2.065\n",
      "2016-03-21    2.061\n",
      "2016-03-22    2.139\n",
      "2016-03-23    1.860\n",
      "2016-03-24    1.976\n",
      "2016-03-25    1.920\n",
      "2016-03-26    1.683\n",
      "2016-03-27    1.561\n",
      "2016-03-28    2.088\n",
      "2016-03-29    2.234\n",
      "2016-03-30    2.474\n",
      "2016-03-31    2.381\n",
      "2016-04-01    2.286\n",
      "2016-04-02    2.487\n",
      "2016-04-03    2.520\n",
      "2016-04-04    2.449\n",
      "2016-04-05   12.493\n",
      "2016-04-06   22.158\n",
      "2016-04-07   13.204\n",
      "Name: last_seen, dtype: float64\n",
      "\n",
      "ad_created:\n",
      "2015-06-11   0.002\n",
      "2015-08-10   0.002\n",
      "2015-09-09   0.002\n",
      "2015-11-10   0.002\n",
      "2015-12-05   0.002\n",
      "              ... \n",
      "2016-04-03   3.882\n",
      "2016-04-04   3.685\n",
      "2016-04-05   1.180\n",
      "2016-04-06   0.325\n",
      "2016-04-07   0.124\n",
      "Name: ad_created, Length: 76, dtype: float64\n",
      "\n",
      "registration_month:\n",
      "0     9.087\n",
      "1     6.635\n",
      "2     6.050\n",
      "3    10.316\n",
      "4     8.324\n",
      "5     8.316\n",
      "6     8.808\n",
      "7     7.948\n",
      "8     6.445\n",
      "9     6.867\n",
      "10    7.406\n",
      "11    6.842\n",
      "12    6.958\n",
      "Name: registration_month, dtype: float64\n",
      "\n",
      "registration_year:\n",
      "1910   0.008\n",
      "1927   0.002\n",
      "1929   0.002\n",
      "1931   0.002\n",
      "1934   0.004\n",
      "        ... \n",
      "2014   1.368\n",
      "2015   0.804\n",
      "2016   2.497\n",
      "2017   2.865\n",
      "2018   0.969\n",
      "Name: registration_year, Length: 80, dtype: float64\n",
      "\n"
     ]
    }
   ],
   "source": [
    "# For reference we will leave the date columns here\n",
    "column_dates = ['date_crawled', 'last_seen', 'ad_created', 'registration_month', 'registration_year']\n",
    "\n",
    "# Removing just the information we need\n",
    "autos['date_crawled'] = autos['date_crawled'].str[:10]\n",
    "autos['last_seen'] = autos['last_seen'].str[:10]\n",
    "autos['ad_created'] = autos['ad_created'].str[:10]\n",
    "\n",
    "# Generating a distribution in percentages\n",
    "date_crawled_freq = (autos['date_crawled'].value_counts()/autos['date_crawled'].shape[0])*100\n",
    "last_seen_freq = (autos['last_seen'].value_counts()/autos['last_seen'].shape[0])*100\n",
    "ad_created_freq = (autos['ad_created'].value_counts()/autos['ad_created'].shape[0])*100\n",
    "registration_month_freq = (autos['registration_month'].value_counts()/autos['registration_month'].shape[0])*100\n",
    "registration_year_freq = (autos['registration_year'].value_counts()/autos['registration_year'].shape[0])*100\n",
    "\n",
    "# Sorting by the dates, to see the percentages\n",
    "date_crawled_freq = date_crawled_freq.sort_index()\n",
    "last_seen_freq = last_seen_freq.sort_index()\n",
    "ad_created_freq = ad_created_freq.sort_index()\n",
    "registration_month_freq = registration_month_freq.sort_index()\n",
    "registration_year_freq = registration_year_freq.sort_index()\n",
    "\n",
    "# Printing the 10 first entries of the distributions\n",
    "print(\"date_crawled:\\n{}\\n\".format(date_crawled_freq))\n",
    "print(\"last_seen:\\n{}\\n\".format(last_seen_freq))\n",
    "print(\"ad_created:\\n{}\\n\".format(ad_created_freq))\n",
    "print(\"registration_month:\\n{}\\n\".format(registration_month_freq))\n",
    "print(\"registration_year:\\n{}\\n\".format(registration_year_freq))"
   ]
  },
  {
   "cell_type": "markdown",
   "metadata": {},
   "source": [
    "The data above tell us some interesting things about each column.\n",
    "- The `date_crawled`, `last_seen` and `ad_created` columns make sense and seem clean.\n",
    "- The  column `registration_month` has a weird amount of month 0 data, this means that probably the seller didn't know the month it was registered, it is not a big problem, so we will keep it (8% is a substantial amount).\n",
    "- The column `registration_year` has 2,8% of the entries from 2017, this could be a typing mistake or the car is a 2017 model, since the model of the year is actually to the next year. So we will leave it like that."
   ]
  },
  {
   "cell_type": "markdown",
   "metadata": {},
   "source": [
    "## 9 Aggregating data by brands\n",
    "Now that we have made most of the cleaning, we are going to aggregate the items by car brands. This will bring more clarity to the dataset."
   ]
  },
  {
   "cell_type": "code",
   "execution_count": 35,
   "metadata": {},
   "outputs": [
    {
     "name": "stdout",
     "output_type": "stream",
     "text": [
      "Unique values:\n",
      " ['peugeot' 'bmw' 'volkswagen' 'smart' 'ford' 'chrysler' 'seat' 'renault'\n",
      " 'mercedes_benz' 'audi' 'sonstige_autos' 'opel' 'mazda' 'porsche' 'mini'\n",
      " 'toyota' 'dacia' 'nissan' 'jeep' 'saab' 'volvo' 'mitsubishi' 'jaguar'\n",
      " 'fiat' 'skoda' 'subaru' 'kia' 'citroen' 'chevrolet' 'hyundai' 'honda'\n",
      " 'daewoo' 'suzuki' 'trabant' 'land_rover' 'alfa_romeo' 'lada' 'rover'\n",
      " 'daihatsu' 'lancia']\n"
     ]
    }
   ],
   "source": [
    "# Printing the unique brand values\n",
    "print(\"Unique values:\\n\",autos['brand'].unique())"
   ]
  },
  {
   "cell_type": "code",
   "execution_count": 36,
   "metadata": {},
   "outputs": [
    {
     "data": {
      "text/plain": [
       "volkswagen       21.294\n",
       "bmw              10.856\n",
       "opel             10.841\n",
       "mercedes_benz     9.579\n",
       "audi              8.588\n",
       "ford              6.976\n",
       "renault           4.789\n",
       "peugeot           2.948\n",
       "fiat              2.604\n",
       "seat              1.891\n",
       "skoda             1.608\n",
       "nissan            1.530\n",
       "mazda             1.528\n",
       "smart             1.435\n",
       "citroen           1.412\n",
       "toyota            1.263\n",
       "hyundai           0.996\n",
       "sonstige_autos    0.947\n",
       "volvo             0.903\n",
       "mini              0.862\n",
       "Name: brand, dtype: float64"
      ]
     },
     "execution_count": 36,
     "metadata": {},
     "output_type": "execute_result"
    }
   ],
   "source": [
    "# Checking the frequencies\n",
    "brands = autos['brand'].value_counts()\n",
    "\n",
    "# Creating the frequency dataframe\n",
    "brands_percentage = ((brands)/(autos['brand'].shape[0]))*100\n",
    "\n",
    "# Printing the top 10\n",
    "brands_percentage.head(20)"
   ]
  },
  {
   "cell_type": "markdown",
   "metadata": {},
   "source": [
    "Looking at the date above we selected the top 10 ones, this means the brands we are going to aggregate are: `volkswagen` (21.27%), `opel` (10.87%), `mercedez_benz` (9.58%), `audi` (8.61%), `ford` (6.99%), `renaut` (4.76%), `peugeot` (2.96%), fiat (2.58%) and seat (1.86%) as the last one.\n",
    "\n",
    "Now we'll make a dictionary to store the mean price information of each brand."
   ]
  },
  {
   "cell_type": "code",
   "execution_count": 37,
   "metadata": {},
   "outputs": [
    {
     "name": "stdout",
     "output_type": "stream",
     "text": [
      "brand_mean_price:\n",
      "\n",
      " {'volkswagen': 5348.205882352941, 'bmw': 8295.984006092916, 'opel': 2957.72335557674, 'mercedes_benz': 8556.059991368149, 'audi': 9241.752587244284, 'ford': 3736.143111111111, 'renault': 2439.5865343116097, 'peugeot': 3074.2082748948105, 'fiat': 2798.3031746031747, 'seat': 4339.049180327869}\n",
      "\n",
      "brand_mean_mileage:\n",
      "\n",
      " {'volkswagen': 128955.54261308484, 'bmw': 132686.5955826352, 'opel': 129452.81220209724, 'mercedes_benz': 130898.7915407855, 'audi': 129567.99037304452, 'ford': 124296.29629629629, 'renault': 128131.20414328873, 'peugeot': 127310.65918653576, 'fiat': 117515.87301587302, 'seat': 121803.27868852459}\n"
     ]
    }
   ],
   "source": [
    "# Taking our top 10 brands\n",
    "auto_brands = ['volkswagen', 'bmw', 'opel', 'mercedes_benz', 'audi',\n",
    "               'ford', 'renault', 'peugeot', 'fiat', 'seat']\n",
    "\n",
    "# Creating an empty dictionary to mean price and mean mileage\n",
    "brand_mean_price = {}\n",
    "brand_mean_mileage = {}\n",
    "\n",
    "# Populating our dictionary\n",
    "for brand in auto_brands:\n",
    "    mean_price = autos.loc[autos['brand'] == brand, 'price'].mean()\n",
    "    mean_mileage = autos.loc[autos['brand'] == brand, 'odometer_km'].mean()\n",
    "    brand_mean_price[brand] = mean_price\n",
    "    brand_mean_mileage[brand] = mean_mileage\n",
    "\n",
    "print(\"brand_mean_price:\\n\\n\",brand_mean_price)\n",
    "print(\"\\nbrand_mean_mileage:\\n\\n\", brand_mean_mileage)"
   ]
  },
  {
   "cell_type": "markdown",
   "metadata": {},
   "source": [
    "As we can see above the most expensive car brands are `audi`, `bmw` and `mercedes benz` with mean prices over 8,000 dollars. Followed by `volkswagen` and `seat` with prices varying between 4,000 dollars and 5,000 dollars. The less expensive are `ford`, `fiat`, `peugeot` and `renault` cars.  \n",
    "Bellow we are going to combine both price and mileage values inside a dataframe so we can compare both information. Also brand_mean_prices will be reduced to bmp and brand_mean_mileage will be reduced to bmm."
   ]
  },
  {
   "cell_type": "code",
   "execution_count": 38,
   "metadata": {},
   "outputs": [
    {
     "data": {
      "text/html": [
       "<div>\n",
       "<style scoped>\n",
       "    .dataframe tbody tr th:only-of-type {\n",
       "        vertical-align: middle;\n",
       "    }\n",
       "\n",
       "    .dataframe tbody tr th {\n",
       "        vertical-align: top;\n",
       "    }\n",
       "\n",
       "    .dataframe thead th {\n",
       "        text-align: right;\n",
       "    }\n",
       "</style>\n",
       "<table border=\"1\" class=\"dataframe\">\n",
       "  <thead>\n",
       "    <tr style=\"text-align: right;\">\n",
       "      <th></th>\n",
       "      <th>mean_price</th>\n",
       "      <th>mean_mileage</th>\n",
       "    </tr>\n",
       "  </thead>\n",
       "  <tbody>\n",
       "    <tr>\n",
       "      <th>volkswagen</th>\n",
       "      <td>5,348.206</td>\n",
       "      <td>128,955.543</td>\n",
       "    </tr>\n",
       "    <tr>\n",
       "      <th>bmw</th>\n",
       "      <td>8,295.984</td>\n",
       "      <td>132,686.596</td>\n",
       "    </tr>\n",
       "    <tr>\n",
       "      <th>opel</th>\n",
       "      <td>2,957.723</td>\n",
       "      <td>129,452.812</td>\n",
       "    </tr>\n",
       "    <tr>\n",
       "      <th>mercedes_benz</th>\n",
       "      <td>8,556.060</td>\n",
       "      <td>130,898.792</td>\n",
       "    </tr>\n",
       "    <tr>\n",
       "      <th>audi</th>\n",
       "      <td>9,241.753</td>\n",
       "      <td>129,567.990</td>\n",
       "    </tr>\n",
       "    <tr>\n",
       "      <th>ford</th>\n",
       "      <td>3,736.143</td>\n",
       "      <td>124,296.296</td>\n",
       "    </tr>\n",
       "    <tr>\n",
       "      <th>renault</th>\n",
       "      <td>2,439.587</td>\n",
       "      <td>128,131.204</td>\n",
       "    </tr>\n",
       "    <tr>\n",
       "      <th>peugeot</th>\n",
       "      <td>3,074.208</td>\n",
       "      <td>127,310.659</td>\n",
       "    </tr>\n",
       "    <tr>\n",
       "      <th>fiat</th>\n",
       "      <td>2,798.303</td>\n",
       "      <td>117,515.873</td>\n",
       "    </tr>\n",
       "    <tr>\n",
       "      <th>seat</th>\n",
       "      <td>4,339.049</td>\n",
       "      <td>121,803.279</td>\n",
       "    </tr>\n",
       "  </tbody>\n",
       "</table>\n",
       "</div>"
      ],
      "text/plain": [
       "               mean_price  mean_mileage\n",
       "volkswagen      5,348.206   128,955.543\n",
       "bmw             8,295.984   132,686.596\n",
       "opel            2,957.723   129,452.812\n",
       "mercedes_benz   8,556.060   130,898.792\n",
       "audi            9,241.753   129,567.990\n",
       "ford            3,736.143   124,296.296\n",
       "renault         2,439.587   128,131.204\n",
       "peugeot         3,074.208   127,310.659\n",
       "fiat            2,798.303   117,515.873\n",
       "seat            4,339.049   121,803.279"
      ]
     },
     "execution_count": 38,
     "metadata": {},
     "output_type": "execute_result"
    }
   ],
   "source": [
    "# Turning the dictionary into a dataframe\n",
    "bmp_series = pd.Series(brand_mean_price)\n",
    "bmm_series = pd.Series(brand_mean_mileage)\n",
    "\n",
    "# Turning both series into a dataframe\n",
    "brand_df = pd.DataFrame(bmp_series, columns = ['mean_price'])\n",
    "brand_df['mean_mileage'] = bmm_series\n",
    "brand_df"
   ]
  },
  {
   "cell_type": "markdown",
   "metadata": {},
   "source": [
    "As we can see above, there is a small difference between how much mileage a car has (at least in the mean values) and the price, the most expensive ones are the ones with the biggest mean mileage, except open that has a big mean but not so big price.  \n",
    "This data can lead to much more insights with more hours of work."
   ]
  }
 ],
 "metadata": {
  "kernelspec": {
   "display_name": "Python 3",
   "language": "python",
   "name": "python3"
  },
  "language_info": {
   "codemirror_mode": {
    "name": "ipython",
    "version": 3
   },
   "file_extension": ".py",
   "mimetype": "text/x-python",
   "name": "python",
   "nbconvert_exporter": "python",
   "pygments_lexer": "ipython3",
   "version": "3.8.5"
  },
  "toc": {
   "base_numbering": 1,
   "nav_menu": {},
   "number_sections": false,
   "sideBar": true,
   "skip_h1_title": false,
   "title_cell": "Table of Contents",
   "title_sidebar": "Contents",
   "toc_cell": false,
   "toc_position": {
    "height": "calc(100% - 180px)",
    "left": "10px",
    "top": "150px",
    "width": "376.797px"
   },
   "toc_section_display": true,
   "toc_window_display": false
  }
 },
 "nbformat": 4,
 "nbformat_minor": 2
}
