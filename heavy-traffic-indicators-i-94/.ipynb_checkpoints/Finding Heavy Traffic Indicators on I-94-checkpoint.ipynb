{
 "cells": [
  {
   "cell_type": "markdown",
   "metadata": {},
   "source": [
    "# Finding Heavy Traffic Indicators on the westbound of I-94\n",
    "\n",
    "This project is going to analyze the westbound traffic on the I-94 Interstate highway with the main purpose of determining a few indicators of heavy traffic in it. These indicators can be weather type, time of the day, time of the week, etc.\n",
    "\n",
    "You can find more information about the highway [here](https://en.wikipedia.org/wiki/Interstate_94) and the data we are going to use can be found [here](https://archive.ics.uci.edu/ml/datasets/Metro+Interstate+Traffic+Volume).\n",
    "\n",
    "To start, we are going to set up the environment, then we'll read the dataframes we need to start the analysis."
   ]
  },
  {
   "cell_type": "markdown",
   "metadata": {
    "heading_collapsed": true
   },
   "source": [
    "## 1 Setting up the environment\n",
    "Let's import the libraries we are going to use, as well as telling the jupyter notebook to show our graphs in line and centralized."
   ]
  },
  {
   "cell_type": "code",
   "execution_count": 1,
   "metadata": {
    "hidden": true
   },
   "outputs": [
    {
     "data": {
      "text/html": [
       "\n",
       "<style>\n",
       ".output_png {\n",
       "    display: table-cell;\n",
       "    text-align: center;\n",
       "    margin:auto;\n",
       "}\n",
       ".prompt \n",
       "    display:none;\n",
       "}\n",
       "}\n",
       "</style>\n"
      ],
      "text/plain": [
       "<IPython.core.display.HTML object>"
      ]
     },
     "execution_count": 1,
     "metadata": {},
     "output_type": "execute_result"
    }
   ],
   "source": [
    "# importing the libraries\n",
    "import pandas as pd\n",
    "import matplotlib.pyplot as plt\n",
    "import seaborn as sns\n",
    "\n",
    "# showing graphs inline\n",
    "%matplotlib inline\n",
    "\n",
    "# to remove the annoying chained assignment warning\n",
    "pd.options.mode.chained_assignment = None \n",
    "\n",
    "# telling pandas to show all columns when asked\n",
    "pd.set_option('display.max_columns', None)\n",
    "\n",
    "# centering the image outputs\n",
    "from IPython.core.display import HTML\n",
    "HTML(\"\"\"\n",
    "<style>\n",
    ".output_png {\n",
    "    display: table-cell;\n",
    "    text-align: center;\n",
    "    margin:auto;\n",
    "}\n",
    ".prompt \n",
    "    display:none;\n",
    "}\n",
    "}\n",
    "</style>\n",
    "\"\"\")"
   ]
  },
  {
   "cell_type": "markdown",
   "metadata": {
    "heading_collapsed": true
   },
   "source": [
    "## 2 Importing the dataset\n",
    "Moving on, we are going to import the dataset from my github repo, this way you can download this file and test it on your own if you want :)"
   ]
  },
  {
   "cell_type": "code",
   "execution_count": 2,
   "metadata": {
    "hidden": true
   },
   "outputs": [
    {
     "data": {
      "text/html": [
       "<div>\n",
       "<style scoped>\n",
       "    .dataframe tbody tr th:only-of-type {\n",
       "        vertical-align: middle;\n",
       "    }\n",
       "\n",
       "    .dataframe tbody tr th {\n",
       "        vertical-align: top;\n",
       "    }\n",
       "\n",
       "    .dataframe thead th {\n",
       "        text-align: right;\n",
       "    }\n",
       "</style>\n",
       "<table border=\"1\" class=\"dataframe\">\n",
       "  <thead>\n",
       "    <tr style=\"text-align: right;\">\n",
       "      <th></th>\n",
       "      <th>holiday</th>\n",
       "      <th>temp</th>\n",
       "      <th>rain_1h</th>\n",
       "      <th>snow_1h</th>\n",
       "      <th>clouds_all</th>\n",
       "      <th>weather_main</th>\n",
       "      <th>weather_description</th>\n",
       "      <th>date_time</th>\n",
       "      <th>traffic_volume</th>\n",
       "    </tr>\n",
       "  </thead>\n",
       "  <tbody>\n",
       "    <tr>\n",
       "      <th>0</th>\n",
       "      <td>None</td>\n",
       "      <td>288.28</td>\n",
       "      <td>0.0</td>\n",
       "      <td>0.0</td>\n",
       "      <td>40</td>\n",
       "      <td>Clouds</td>\n",
       "      <td>scattered clouds</td>\n",
       "      <td>2012-10-02 09:00:00</td>\n",
       "      <td>5545</td>\n",
       "    </tr>\n",
       "    <tr>\n",
       "      <th>1</th>\n",
       "      <td>None</td>\n",
       "      <td>289.36</td>\n",
       "      <td>0.0</td>\n",
       "      <td>0.0</td>\n",
       "      <td>75</td>\n",
       "      <td>Clouds</td>\n",
       "      <td>broken clouds</td>\n",
       "      <td>2012-10-02 10:00:00</td>\n",
       "      <td>4516</td>\n",
       "    </tr>\n",
       "    <tr>\n",
       "      <th>2</th>\n",
       "      <td>None</td>\n",
       "      <td>289.58</td>\n",
       "      <td>0.0</td>\n",
       "      <td>0.0</td>\n",
       "      <td>90</td>\n",
       "      <td>Clouds</td>\n",
       "      <td>overcast clouds</td>\n",
       "      <td>2012-10-02 11:00:00</td>\n",
       "      <td>4767</td>\n",
       "    </tr>\n",
       "    <tr>\n",
       "      <th>3</th>\n",
       "      <td>None</td>\n",
       "      <td>290.13</td>\n",
       "      <td>0.0</td>\n",
       "      <td>0.0</td>\n",
       "      <td>90</td>\n",
       "      <td>Clouds</td>\n",
       "      <td>overcast clouds</td>\n",
       "      <td>2012-10-02 12:00:00</td>\n",
       "      <td>5026</td>\n",
       "    </tr>\n",
       "    <tr>\n",
       "      <th>4</th>\n",
       "      <td>None</td>\n",
       "      <td>291.14</td>\n",
       "      <td>0.0</td>\n",
       "      <td>0.0</td>\n",
       "      <td>75</td>\n",
       "      <td>Clouds</td>\n",
       "      <td>broken clouds</td>\n",
       "      <td>2012-10-02 13:00:00</td>\n",
       "      <td>4918</td>\n",
       "    </tr>\n",
       "  </tbody>\n",
       "</table>\n",
       "</div>"
      ],
      "text/plain": [
       "  holiday    temp  rain_1h  snow_1h  clouds_all weather_main  \\\n",
       "0    None  288.28      0.0      0.0          40       Clouds   \n",
       "1    None  289.36      0.0      0.0          75       Clouds   \n",
       "2    None  289.58      0.0      0.0          90       Clouds   \n",
       "3    None  290.13      0.0      0.0          90       Clouds   \n",
       "4    None  291.14      0.0      0.0          75       Clouds   \n",
       "\n",
       "  weather_description            date_time  traffic_volume  \n",
       "0    scattered clouds  2012-10-02 09:00:00            5545  \n",
       "1       broken clouds  2012-10-02 10:00:00            4516  \n",
       "2     overcast clouds  2012-10-02 11:00:00            4767  \n",
       "3     overcast clouds  2012-10-02 12:00:00            5026  \n",
       "4       broken clouds  2012-10-02 13:00:00            4918  "
      ]
     },
     "execution_count": 2,
     "metadata": {},
     "output_type": "execute_result"
    }
   ],
   "source": [
    "# importing the file and reading it\n",
    "file = 'https://raw.githubusercontent.com/nathpignaton/guided_projects/main/heavy-traffic-indicators-i-94/Metro_Interstate_Traffic_Volume.csv'\n",
    "traffic = pd.read_csv(file)\n",
    "\n",
    "traffic.head()"
   ]
  },
  {
   "cell_type": "code",
   "execution_count": 3,
   "metadata": {
    "hidden": true
   },
   "outputs": [
    {
     "name": "stdout",
     "output_type": "stream",
     "text": [
      "<class 'pandas.core.frame.DataFrame'>\n",
      "RangeIndex: 48204 entries, 0 to 48203\n",
      "Data columns (total 9 columns):\n",
      " #   Column               Non-Null Count  Dtype  \n",
      "---  ------               --------------  -----  \n",
      " 0   holiday              48204 non-null  object \n",
      " 1   temp                 48204 non-null  float64\n",
      " 2   rain_1h              48204 non-null  float64\n",
      " 3   snow_1h              48204 non-null  float64\n",
      " 4   clouds_all           48204 non-null  int64  \n",
      " 5   weather_main         48204 non-null  object \n",
      " 6   weather_description  48204 non-null  object \n",
      " 7   date_time            48204 non-null  object \n",
      " 8   traffic_volume       48204 non-null  int64  \n",
      "dtypes: float64(3), int64(2), object(4)\n",
      "memory usage: 3.3+ MB\n"
     ]
    }
   ],
   "source": [
    "traffic.info()"
   ]
  },
  {
   "cell_type": "markdown",
   "metadata": {
    "heading_collapsed": true
   },
   "source": [
    "## 3 Taking a first look at the information\n",
    "To see how the incidents behave, we are going to plot a histogram to examine the distribution of the `traffic_volume` column."
   ]
  },
  {
   "cell_type": "code",
   "execution_count": 4,
   "metadata": {
    "hidden": true
   },
   "outputs": [
    {
     "data": {
      "image/png": "[encoded data removed]",
      "text/plain": [
       "<Figure size 432x288 with 1 Axes>"
      ]
     },
     "metadata": {
      "needs_background": "light"
     },
     "output_type": "display_data"
    }
   ],
   "source": [
    "traffic['traffic_volume'].plot.hist()\n",
    "plt.title(\"Observing how the traffic volume behaves\")\n",
    "plt.xlabel(\"traffic_volume\")\n",
    "plt.show()"
   ]
  },
  {
   "cell_type": "code",
   "execution_count": 5,
   "metadata": {
    "hidden": true
   },
   "outputs": [
    {
     "data": {
      "text/plain": [
       "count    48204.000000\n",
       "mean      3259.818355\n",
       "std       1986.860670\n",
       "min          0.000000\n",
       "25%       1193.000000\n",
       "50%       3380.000000\n",
       "75%       4933.000000\n",
       "max       7280.000000\n",
       "Name: traffic_volume, dtype: float64"
      ]
     },
     "execution_count": 5,
     "metadata": {},
     "output_type": "execute_result"
    }
   ],
   "source": [
    "# checking statistics information about the column\n",
    "traffic['traffic_volume'].describe()"
   ]
  },
  {
   "cell_type": "markdown",
   "metadata": {
    "hidden": true
   },
   "source": [
    "As we look to the graph above, we can see that the **volume of traffic is very low (0 to 700) in a high frequency (8000) and that it is also high (4500 to 5000) in the same high frequency (8000)**. \n",
    "\n",
    "This can be a sign of different vehicles flows in different times of the day. Looking at the statistics of the column, we see that the information makes sense, since that in the first 25% of the data, the amount of vehicles were only 1986 and at 75% of the data (the last 25%), the same place showed us 4933 vehicles.   \n",
    "\n",
    "With that in mind, let's start looking at the volume differences between daytime and nighttime.  \n",
    "\n",
    "To do so, we are going to convert the column `date_time` to real datetime format and also isolate the date and time information, to analyze it better."
   ]
  },
  {
   "cell_type": "markdown",
   "metadata": {
    "heading_collapsed": true
   },
   "source": [
    "## 4 Treating the time data\n",
    "Let's start change the data type of the column, then we are going to separate the data into day and night information."
   ]
  },
  {
   "cell_type": "code",
   "execution_count": 6,
   "metadata": {
    "hidden": true
   },
   "outputs": [
    {
     "data": {
      "text/plain": [
       "0         9\n",
       "1        10\n",
       "2        11\n",
       "3        12\n",
       "4        13\n",
       "         ..\n",
       "48199    19\n",
       "48200    20\n",
       "48201    21\n",
       "48202    22\n",
       "48203    23\n",
       "Name: date_time, Length: 48204, dtype: int64"
      ]
     },
     "execution_count": 6,
     "metadata": {},
     "output_type": "execute_result"
    }
   ],
   "source": [
    "# turning the column to datetime\n",
    "traffic['date_time'] = pd.to_datetime(traffic['date_time'])\n",
    "traffic['date_time'].dt.hour"
   ]
  },
  {
   "cell_type": "code",
   "execution_count": 7,
   "metadata": {
    "hidden": true
   },
   "outputs": [
    {
     "data": {
      "text/html": [
       "<div>\n",
       "<style scoped>\n",
       "    .dataframe tbody tr th:only-of-type {\n",
       "        vertical-align: middle;\n",
       "    }\n",
       "\n",
       "    .dataframe tbody tr th {\n",
       "        vertical-align: top;\n",
       "    }\n",
       "\n",
       "    .dataframe thead th {\n",
       "        text-align: right;\n",
       "    }\n",
       "</style>\n",
       "<table border=\"1\" class=\"dataframe\">\n",
       "  <thead>\n",
       "    <tr style=\"text-align: right;\">\n",
       "      <th></th>\n",
       "      <th>holiday</th>\n",
       "      <th>temp</th>\n",
       "      <th>rain_1h</th>\n",
       "      <th>snow_1h</th>\n",
       "      <th>clouds_all</th>\n",
       "      <th>weather_main</th>\n",
       "      <th>weather_description</th>\n",
       "      <th>date_time</th>\n",
       "      <th>traffic_volume</th>\n",
       "    </tr>\n",
       "  </thead>\n",
       "  <tbody>\n",
       "    <tr>\n",
       "      <th>10</th>\n",
       "      <td>None</td>\n",
       "      <td>290.97</td>\n",
       "      <td>0.0</td>\n",
       "      <td>0.0</td>\n",
       "      <td>20</td>\n",
       "      <td>Clouds</td>\n",
       "      <td>few clouds</td>\n",
       "      <td>2012-10-02 19:00:00</td>\n",
       "      <td>3539</td>\n",
       "    </tr>\n",
       "    <tr>\n",
       "      <th>11</th>\n",
       "      <td>None</td>\n",
       "      <td>289.38</td>\n",
       "      <td>0.0</td>\n",
       "      <td>0.0</td>\n",
       "      <td>1</td>\n",
       "      <td>Clear</td>\n",
       "      <td>sky is clear</td>\n",
       "      <td>2012-10-02 20:00:00</td>\n",
       "      <td>2784</td>\n",
       "    </tr>\n",
       "    <tr>\n",
       "      <th>12</th>\n",
       "      <td>None</td>\n",
       "      <td>288.61</td>\n",
       "      <td>0.0</td>\n",
       "      <td>0.0</td>\n",
       "      <td>1</td>\n",
       "      <td>Clear</td>\n",
       "      <td>sky is clear</td>\n",
       "      <td>2012-10-02 21:00:00</td>\n",
       "      <td>2361</td>\n",
       "    </tr>\n",
       "    <tr>\n",
       "      <th>13</th>\n",
       "      <td>None</td>\n",
       "      <td>287.16</td>\n",
       "      <td>0.0</td>\n",
       "      <td>0.0</td>\n",
       "      <td>1</td>\n",
       "      <td>Clear</td>\n",
       "      <td>sky is clear</td>\n",
       "      <td>2012-10-02 22:00:00</td>\n",
       "      <td>1529</td>\n",
       "    </tr>\n",
       "    <tr>\n",
       "      <th>14</th>\n",
       "      <td>None</td>\n",
       "      <td>285.45</td>\n",
       "      <td>0.0</td>\n",
       "      <td>0.0</td>\n",
       "      <td>1</td>\n",
       "      <td>Clear</td>\n",
       "      <td>sky is clear</td>\n",
       "      <td>2012-10-02 23:00:00</td>\n",
       "      <td>963</td>\n",
       "    </tr>\n",
       "  </tbody>\n",
       "</table>\n",
       "</div>"
      ],
      "text/plain": [
       "   holiday    temp  rain_1h  snow_1h  clouds_all weather_main  \\\n",
       "10    None  290.97      0.0      0.0          20       Clouds   \n",
       "11    None  289.38      0.0      0.0           1        Clear   \n",
       "12    None  288.61      0.0      0.0           1        Clear   \n",
       "13    None  287.16      0.0      0.0           1        Clear   \n",
       "14    None  285.45      0.0      0.0           1        Clear   \n",
       "\n",
       "   weather_description           date_time  traffic_volume  \n",
       "10          few clouds 2012-10-02 19:00:00            3539  \n",
       "11        sky is clear 2012-10-02 20:00:00            2784  \n",
       "12        sky is clear 2012-10-02 21:00:00            2361  \n",
       "13        sky is clear 2012-10-02 22:00:00            1529  \n",
       "14        sky is clear 2012-10-02 23:00:00             963  "
      ]
     },
     "execution_count": 7,
     "metadata": {},
     "output_type": "execute_result"
    }
   ],
   "source": [
    "# separating night information\n",
    "nighttime = traffic[(traffic['date_time'].dt.hour >= 19) | (traffic['date_time'].dt.hour < 7)]\n",
    "              \n",
    "nighttime.head()"
   ]
  },
  {
   "cell_type": "code",
   "execution_count": 8,
   "metadata": {
    "hidden": true
   },
   "outputs": [
    {
     "data": {
      "text/html": [
       "<div>\n",
       "<style scoped>\n",
       "    .dataframe tbody tr th:only-of-type {\n",
       "        vertical-align: middle;\n",
       "    }\n",
       "\n",
       "    .dataframe tbody tr th {\n",
       "        vertical-align: top;\n",
       "    }\n",
       "\n",
       "    .dataframe thead th {\n",
       "        text-align: right;\n",
       "    }\n",
       "</style>\n",
       "<table border=\"1\" class=\"dataframe\">\n",
       "  <thead>\n",
       "    <tr style=\"text-align: right;\">\n",
       "      <th></th>\n",
       "      <th>holiday</th>\n",
       "      <th>temp</th>\n",
       "      <th>rain_1h</th>\n",
       "      <th>snow_1h</th>\n",
       "      <th>clouds_all</th>\n",
       "      <th>weather_main</th>\n",
       "      <th>weather_description</th>\n",
       "      <th>date_time</th>\n",
       "      <th>traffic_volume</th>\n",
       "    </tr>\n",
       "  </thead>\n",
       "  <tbody>\n",
       "    <tr>\n",
       "      <th>0</th>\n",
       "      <td>None</td>\n",
       "      <td>288.28</td>\n",
       "      <td>0.0</td>\n",
       "      <td>0.0</td>\n",
       "      <td>40</td>\n",
       "      <td>Clouds</td>\n",
       "      <td>scattered clouds</td>\n",
       "      <td>2012-10-02 09:00:00</td>\n",
       "      <td>5545</td>\n",
       "    </tr>\n",
       "    <tr>\n",
       "      <th>1</th>\n",
       "      <td>None</td>\n",
       "      <td>289.36</td>\n",
       "      <td>0.0</td>\n",
       "      <td>0.0</td>\n",
       "      <td>75</td>\n",
       "      <td>Clouds</td>\n",
       "      <td>broken clouds</td>\n",
       "      <td>2012-10-02 10:00:00</td>\n",
       "      <td>4516</td>\n",
       "    </tr>\n",
       "    <tr>\n",
       "      <th>2</th>\n",
       "      <td>None</td>\n",
       "      <td>289.58</td>\n",
       "      <td>0.0</td>\n",
       "      <td>0.0</td>\n",
       "      <td>90</td>\n",
       "      <td>Clouds</td>\n",
       "      <td>overcast clouds</td>\n",
       "      <td>2012-10-02 11:00:00</td>\n",
       "      <td>4767</td>\n",
       "    </tr>\n",
       "    <tr>\n",
       "      <th>3</th>\n",
       "      <td>None</td>\n",
       "      <td>290.13</td>\n",
       "      <td>0.0</td>\n",
       "      <td>0.0</td>\n",
       "      <td>90</td>\n",
       "      <td>Clouds</td>\n",
       "      <td>overcast clouds</td>\n",
       "      <td>2012-10-02 12:00:00</td>\n",
       "      <td>5026</td>\n",
       "    </tr>\n",
       "    <tr>\n",
       "      <th>4</th>\n",
       "      <td>None</td>\n",
       "      <td>291.14</td>\n",
       "      <td>0.0</td>\n",
       "      <td>0.0</td>\n",
       "      <td>75</td>\n",
       "      <td>Clouds</td>\n",
       "      <td>broken clouds</td>\n",
       "      <td>2012-10-02 13:00:00</td>\n",
       "      <td>4918</td>\n",
       "    </tr>\n",
       "  </tbody>\n",
       "</table>\n",
       "</div>"
      ],
      "text/plain": [
       "  holiday    temp  rain_1h  snow_1h  clouds_all weather_main  \\\n",
       "0    None  288.28      0.0      0.0          40       Clouds   \n",
       "1    None  289.36      0.0      0.0          75       Clouds   \n",
       "2    None  289.58      0.0      0.0          90       Clouds   \n",
       "3    None  290.13      0.0      0.0          90       Clouds   \n",
       "4    None  291.14      0.0      0.0          75       Clouds   \n",
       "\n",
       "  weather_description           date_time  traffic_volume  \n",
       "0    scattered clouds 2012-10-02 09:00:00            5545  \n",
       "1       broken clouds 2012-10-02 10:00:00            4516  \n",
       "2     overcast clouds 2012-10-02 11:00:00            4767  \n",
       "3     overcast clouds 2012-10-02 12:00:00            5026  \n",
       "4       broken clouds 2012-10-02 13:00:00            4918  "
      ]
     },
     "execution_count": 8,
     "metadata": {},
     "output_type": "execute_result"
    }
   ],
   "source": [
    "# separating day information\n",
    "daytime = traffic[(traffic['date_time'].dt.hour < 19) & (traffic['date_time'].dt.hour >= 7)]\n",
    "\n",
    "daytime.head()"
   ]
  },
  {
   "cell_type": "markdown",
   "metadata": {
    "heading_collapsed": true
   },
   "source": [
    "## 5 Comparing day and night information\n",
    "Once we've saw that interesting aspect of our data, we can start comparing both day and night information to see if it is really true. To start, we are going to plot two graphs comparing both information side by side."
   ]
  },
  {
   "cell_type": "code",
   "execution_count": 9,
   "metadata": {
    "hidden": true,
    "scrolled": true
   },
   "outputs": [
    {
     "data": {
      "image/png": "[encoded data removed]",
      "text/plain": [
       "<Figure size 864x360 with 2 Axes>"
      ]
     },
     "metadata": {
      "needs_background": "light"
     },
     "output_type": "display_data"
    }
   ],
   "source": [
    "# creating the main figure and the subplots\n",
    "plt.figure(figsize=(12,5))\n",
    "\n",
    "# plotting first graph - nighttime\n",
    "plt.subplot(1, 2, 1)\n",
    "nighttime['traffic_volume'].plot.hist()\n",
    "plt.title('Nighttime frequency of vehicles volume')\n",
    "plt.xlabel('traffic_volume')\n",
    "plt.xlim(0, 7000)\n",
    "plt.ylim(0, 8000)\n",
    "# plotting second graph - daytime\n",
    "plt.subplot(1,2,2)\n",
    "daytime['traffic_volume'].plot.hist()\n",
    "plt.title('Daytime frequency of vechicles volume')\n",
    "plt.xlabel('traffic_volume')\n",
    "plt.xlim(0, 7000)\n",
    "plt.ylim(0, 8000)\n",
    "plt.show()"
   ]
  },
  {
   "cell_type": "code",
   "execution_count": 10,
   "metadata": {
    "hidden": true
   },
   "outputs": [
    {
     "name": "stdout",
     "output_type": "stream",
     "text": [
      "Nighttime Statistics:\n",
      "                temp       rain_1h       snow_1h    clouds_all  traffic_volume\n",
      "count  24327.000000  24327.000000  24327.000000  24327.000000    24327.000000\n",
      "mean     280.173600      0.139145      0.000192     45.672011     1785.377441\n",
      "std       13.296357      1.110872      0.007434     40.048382     1441.951197\n",
      "min        0.000000      0.000000      0.000000      0.000000        0.000000\n",
      "25%      271.700000      0.000000      0.000000      1.000000      530.000000\n",
      "50%      281.379000      0.000000      0.000000     40.000000     1287.000000\n",
      "75%      290.700000      0.000000      0.000000     90.000000     2819.000000\n",
      "max      307.680000     55.630000      0.510000    100.000000     6386.000000 \n",
      "\n",
      " Daytime Statistics:\n",
      "                temp      rain_1h       snow_1h    clouds_all  traffic_volume\n",
      "count  23877.000000  23877.00000  23877.000000  23877.000000    23877.000000\n",
      "mean     282.257596      0.53306      0.000253     53.122000     4762.047452\n",
      "std       13.298885     63.62932      0.008853     37.564588     1174.546482\n",
      "min        0.000000      0.00000      0.000000      0.000000        0.000000\n",
      "25%      272.680000      0.00000      0.000000      5.000000     4252.000000\n",
      "50%      283.780000      0.00000      0.000000     75.000000     4820.000000\n",
      "75%      293.440000      0.00000      0.000000     90.000000     5559.000000\n",
      "max      310.070000   9831.30000      0.510000    100.000000     7280.000000\n"
     ]
    }
   ],
   "source": [
    "# checking the statistics to both dataframes\n",
    "print(\"Nighttime Statistics:\\n\",nighttime.describe(), \"\\n\\n\", \n",
    "      \"Daytime Statistics:\\n\", daytime.describe())"
   ]
  },
  {
   "cell_type": "markdown",
   "metadata": {
    "hidden": true
   },
   "source": [
    "As we can see in the information above, the volume of traffic is significantly bigger in the **daytime, showing almost 5000 vehicles in more than 50% of the observations**. On the other hand, **nighttime shows us**, in the same 50% of the observations, **less than 1100 vehicles in the highway**.  \n",
    "\n",
    "The right skewed Nighttime graph shows visually this informations, presenting the higher frequency of smaller traffic volumes.  \n",
    "We can, also, see that in the left skewed Daytime graph, showing that the most frequent traffic volumes are the higher ones, specifically around 4500 and 5000. \n",
    "\n",
    "This tell us that our first idea of less cars circulating at some specific time of the day, was right and that **there are less vehicles in the road in the nighttime**.  \n",
    "\n",
    "With that in mind, for now on **we are going to focus our analysis in the data correspondent to daytime**, since we are investigating heavy traffic situations. Moving forward, we are going to check how the traffic behaves in different months, days of the week and moments of the day."
   ]
  },
  {
   "cell_type": "markdown",
   "metadata": {},
   "source": [
    "## 6 Finding time indicators for heavy traffic\n",
    "Since we are going to compare different moments in the year, we are going to divide this section into three: Month comparison, Day of the week comparison and Hour of the day comparison. Let's start it."
   ]
  },
  {
   "cell_type": "markdown",
   "metadata": {},
   "source": [
    "### 6.1 Month comparison\n",
    "To this comparison, we are going to group our data calculating the average traffic volume per month, plotting a line plot at the end to see how it behaves. "
   ]
  },
  {
   "cell_type": "code",
   "execution_count": 11,
   "metadata": {},
   "outputs": [
    {
     "data": {
      "text/html": [
       "<div>\n",
       "<style scoped>\n",
       "    .dataframe tbody tr th:only-of-type {\n",
       "        vertical-align: middle;\n",
       "    }\n",
       "\n",
       "    .dataframe tbody tr th {\n",
       "        vertical-align: top;\n",
       "    }\n",
       "\n",
       "    .dataframe thead th {\n",
       "        text-align: right;\n",
       "    }\n",
       "</style>\n",
       "<table border=\"1\" class=\"dataframe\">\n",
       "  <thead>\n",
       "    <tr style=\"text-align: right;\">\n",
       "      <th></th>\n",
       "      <th>temp</th>\n",
       "      <th>rain_1h</th>\n",
       "      <th>snow_1h</th>\n",
       "      <th>clouds_all</th>\n",
       "      <th>traffic_volume</th>\n",
       "    </tr>\n",
       "    <tr>\n",
       "      <th>month</th>\n",
       "      <th></th>\n",
       "      <th></th>\n",
       "      <th></th>\n",
       "      <th></th>\n",
       "      <th></th>\n",
       "    </tr>\n",
       "  </thead>\n",
       "  <tbody>\n",
       "    <tr>\n",
       "      <th>1</th>\n",
       "      <td>265.483409</td>\n",
       "      <td>0.015080</td>\n",
       "      <td>0.000631</td>\n",
       "      <td>58.554108</td>\n",
       "      <td>4495.613727</td>\n",
       "    </tr>\n",
       "    <tr>\n",
       "      <th>2</th>\n",
       "      <td>266.663789</td>\n",
       "      <td>0.004019</td>\n",
       "      <td>0.000000</td>\n",
       "      <td>51.550459</td>\n",
       "      <td>4711.198394</td>\n",
       "    </tr>\n",
       "    <tr>\n",
       "      <th>3</th>\n",
       "      <td>273.619940</td>\n",
       "      <td>0.015839</td>\n",
       "      <td>0.000000</td>\n",
       "      <td>56.827811</td>\n",
       "      <td>4889.409560</td>\n",
       "    </tr>\n",
       "    <tr>\n",
       "      <th>4</th>\n",
       "      <td>279.661071</td>\n",
       "      <td>0.105343</td>\n",
       "      <td>0.000000</td>\n",
       "      <td>59.221525</td>\n",
       "      <td>4906.894305</td>\n",
       "    </tr>\n",
       "    <tr>\n",
       "      <th>5</th>\n",
       "      <td>289.282668</td>\n",
       "      <td>0.130863</td>\n",
       "      <td>0.000000</td>\n",
       "      <td>56.548825</td>\n",
       "      <td>4911.121609</td>\n",
       "    </tr>\n",
       "    <tr>\n",
       "      <th>6</th>\n",
       "      <td>294.576068</td>\n",
       "      <td>0.271121</td>\n",
       "      <td>0.000000</td>\n",
       "      <td>48.612374</td>\n",
       "      <td>4898.019566</td>\n",
       "    </tr>\n",
       "    <tr>\n",
       "      <th>7</th>\n",
       "      <td>296.785052</td>\n",
       "      <td>4.412258</td>\n",
       "      <td>0.000000</td>\n",
       "      <td>42.176619</td>\n",
       "      <td>4595.035744</td>\n",
       "    </tr>\n",
       "    <tr>\n",
       "      <th>8</th>\n",
       "      <td>295.119191</td>\n",
       "      <td>0.228113</td>\n",
       "      <td>0.000000</td>\n",
       "      <td>42.556892</td>\n",
       "      <td>4928.302035</td>\n",
       "    </tr>\n",
       "    <tr>\n",
       "      <th>9</th>\n",
       "      <td>292.520287</td>\n",
       "      <td>0.289807</td>\n",
       "      <td>0.000000</td>\n",
       "      <td>45.184112</td>\n",
       "      <td>4870.783145</td>\n",
       "    </tr>\n",
       "    <tr>\n",
       "      <th>10</th>\n",
       "      <td>284.081011</td>\n",
       "      <td>0.016065</td>\n",
       "      <td>0.000000</td>\n",
       "      <td>53.497990</td>\n",
       "      <td>4921.234922</td>\n",
       "    </tr>\n",
       "    <tr>\n",
       "      <th>11</th>\n",
       "      <td>276.698007</td>\n",
       "      <td>0.006200</td>\n",
       "      <td>0.000000</td>\n",
       "      <td>56.697187</td>\n",
       "      <td>4704.094319</td>\n",
       "    </tr>\n",
       "    <tr>\n",
       "      <th>12</th>\n",
       "      <td>267.727846</td>\n",
       "      <td>0.035365</td>\n",
       "      <td>0.002213</td>\n",
       "      <td>66.942237</td>\n",
       "      <td>4374.834566</td>\n",
       "    </tr>\n",
       "  </tbody>\n",
       "</table>\n",
       "</div>"
      ],
      "text/plain": [
       "             temp   rain_1h   snow_1h  clouds_all  traffic_volume\n",
       "month                                                            \n",
       "1      265.483409  0.015080  0.000631   58.554108     4495.613727\n",
       "2      266.663789  0.004019  0.000000   51.550459     4711.198394\n",
       "3      273.619940  0.015839  0.000000   56.827811     4889.409560\n",
       "4      279.661071  0.105343  0.000000   59.221525     4906.894305\n",
       "5      289.282668  0.130863  0.000000   56.548825     4911.121609\n",
       "6      294.576068  0.271121  0.000000   48.612374     4898.019566\n",
       "7      296.785052  4.412258  0.000000   42.176619     4595.035744\n",
       "8      295.119191  0.228113  0.000000   42.556892     4928.302035\n",
       "9      292.520287  0.289807  0.000000   45.184112     4870.783145\n",
       "10     284.081011  0.016065  0.000000   53.497990     4921.234922\n",
       "11     276.698007  0.006200  0.000000   56.697187     4704.094319\n",
       "12     267.727846  0.035365  0.002213   66.942237     4374.834566"
      ]
     },
     "execution_count": 11,
     "metadata": {},
     "output_type": "execute_result"
    }
   ],
   "source": [
    "# creating the 'month' column\n",
    "daytime['month'] = daytime['date_time'].dt.month\n",
    "\n",
    "# grouping the information by average\n",
    "grouped_month = daytime.groupby('month').mean()\n",
    "\n",
    "grouped_month"
   ]
  },
  {
   "cell_type": "code",
   "execution_count": 12,
   "metadata": {},
   "outputs": [
    {
     "data": {
      "image/png": "[encoded data removed]",
      "text/plain": [
       "<Figure size 432x288 with 1 Axes>"
      ]
     },
     "metadata": {
      "needs_background": "light"
     },
     "output_type": "display_data"
    }
   ],
   "source": [
    "# plotting a line plot\n",
    "plt.plot(grouped_month['traffic_volume'])\n",
    "plt.title('Traffic volume per month')\n",
    "plt.xlabel('month')\n",
    "plt.xticks(range(1,13))\n",
    "plt.show()"
   ]
  },
  {
   "cell_type": "markdown",
   "metadata": {},
   "source": [
    "Looking at the graph, we can see an interesting pattern: traffic volume tends to be smaller in winter (December to February) and it drops, drastically, in July (a vacation month).   \n",
    "\n",
    "This could tell us that this highway is not very used in vacation periods or not used because of other natural motives.  \n",
    "To check it, we are going to plot another graph to see how **rain** and **snow** influence in this case."
   ]
  },
  {
   "cell_type": "code",
   "execution_count": 13,
   "metadata": {
    "scrolled": true
   },
   "outputs": [
    {
     "data": {
      "image/png": "[encoded data removed]",
      "text/plain": [
       "<Figure size 1080x360 with 2 Axes>"
      ]
     },
     "metadata": {
      "needs_background": "light"
     },
     "output_type": "display_data"
    }
   ],
   "source": [
    "# plotting a line plot of rain\n",
    "plt.figure(figsize=(15, 5))\n",
    "plt.subplot(1, 2, 1)\n",
    "plt.plot(grouped_month['rain_1h'])\n",
    "plt.title('Rain through the year')\n",
    "plt.xlabel('month')\n",
    "plt.xticks(range(1,13))\n",
    "plt.subplot(1, 2, 2)\n",
    "plt.plot(grouped_month['snow_1h'], label='Snow')\n",
    "plt.title('Snow through the year')\n",
    "plt.xlabel('month')\n",
    "plt.xticks(range(1,13))\n",
    "plt.show()"
   ]
  },
  {
   "cell_type": "markdown",
   "metadata": {},
   "source": [
    "After the graph plotting, we can see that snow and rain can affect the volume of vehicles throughout the year, giving us a idea that the highway may not be the best option in this conditions or that people don't usually use it in this periods.  \n",
    "Moving on, we are going to check how the volume changes depending on the day of the week."
   ]
  },
  {
   "cell_type": "markdown",
   "metadata": {
    "heading_collapsed": true
   },
   "source": [
    "### 6.2 Day of the week comparison\n",
    "Based on our last information about the highway, we are going to look at the influence of the day of the week in the volume of vehicles on the highway. Let's stark grouping our dataset properly."
   ]
  },
  {
   "cell_type": "code",
   "execution_count": 14,
   "metadata": {
    "hidden": true
   },
   "outputs": [
    {
     "data": {
      "text/plain": [
       "day_of_week\n",
       "0    4893.551286\n",
       "1    5189.004782\n",
       "2    5284.454282\n",
       "3    5311.303730\n",
       "4    5291.600829\n",
       "5    3927.249558\n",
       "6    3436.541789\n",
       "Name: traffic_volume, dtype: float64"
      ]
     },
     "execution_count": 14,
     "metadata": {},
     "output_type": "execute_result"
    }
   ],
   "source": [
    "# grouping from 0 (monday) to 6 (sunday)\n",
    "daytime['day_of_week'] = daytime['date_time'].dt.dayofweek\n",
    "grouped_dayofweek = daytime.groupby(daytime['day_of_week']).mean()\n",
    "\n",
    "grouped_dayofweek['traffic_volume']"
   ]
  },
  {
   "cell_type": "code",
   "execution_count": 15,
   "metadata": {
    "hidden": true
   },
   "outputs": [
    {
     "data": {
      "image/png": "[encoded data removed]",
      "text/plain": [
       "<Figure size 432x288 with 1 Axes>"
      ]
     },
     "metadata": {
      "needs_background": "light"
     },
     "output_type": "display_data"
    }
   ],
   "source": [
    "# generating the line plot\n",
    "grouped_dayofweek['traffic_volume'].plot()\n",
    "plt.title(\"Traffic volume per day of the week\")\n",
    "labels = ['Monday', 'Tuesday', 'Wednesday', 'Thursday', 'Friday', 'Saturday', 'Sunday']\n",
    "plt.xticks(grouped_dayofweek.index, labels, rotation=30)\n",
    "plt.xlabel('')\n",
    "plt.ylabel('traffic volume')\n",
    "plt.show()"
   ]
  },
  {
   "cell_type": "markdown",
   "metadata": {
    "hidden": true
   },
   "source": [
    "The graph above shows us that the highway is more used in business days, since Saturday and Sunday have lower average traffic volumes.  \n",
    "Moving on, let's check the different volumes in different hours of the day."
   ]
  },
  {
   "cell_type": "markdown",
   "metadata": {
    "heading_collapsed": true
   },
   "source": [
    "### 6.3 Hour of the day comparison\n",
    "To start, we are going to do the same flow we did before: group the data by hour and plot the line graph.  \n",
    "But after the previous analysis, we saw that the weekend days are going to lower our average. To prevent this from happening, we will separate the information into business and weekend days, plotting two different graphs."
   ]
  },
  {
   "cell_type": "code",
   "execution_count": 16,
   "metadata": {
    "hidden": true
   },
   "outputs": [
    {
     "name": "stdout",
     "output_type": "stream",
     "text": [
      "Business days\n",
      " hour\n",
      "7     6030.413559\n",
      "8     5503.497970\n",
      "9     4895.269257\n",
      "10    4378.419118\n",
      "11    4633.419470\n",
      "12    4855.382143\n",
      "13    4859.180473\n",
      "14    5152.995778\n",
      "15    5592.897768\n",
      "16    6189.473647\n",
      "17    5784.827133\n",
      "18    4434.209431\n",
      "Name: traffic_volume, dtype: float64 \n",
      " \n",
      " Weekend\n",
      " hour\n",
      "7     1589.365894\n",
      "8     2338.578073\n",
      "9     3111.623917\n",
      "10    3686.632302\n",
      "11    4044.154955\n",
      "12    4372.482883\n",
      "13    4362.296564\n",
      "14    4358.543796\n",
      "15    4342.456881\n",
      "16    4339.693805\n",
      "17    4151.919929\n",
      "18    3811.792279\n",
      "Name: traffic_volume, dtype: float64\n"
     ]
    }
   ],
   "source": [
    "# separating the datasets\n",
    "business_days = daytime.copy()[daytime['date_time'].dt.dayofweek <= 4]\n",
    "weekend_days = daytime.copy()[daytime['date_time'].dt.dayofweek >= 5]\n",
    "\n",
    "# grouping the data by hour\n",
    "business_days['hour'] = business_days['date_time'].dt.hour\n",
    "weekend_days['hour'] = weekend_days['date_time'].dt.hour\n",
    "\n",
    "grouped_business_hr = business_days.groupby('hour').mean()\n",
    "grouped_weekend_hr = weekend_days.groupby('hour').mean()\n",
    "\n",
    "print('Business days\\n', grouped_business_hr['traffic_volume'],\n",
    "      '\\n \\n', 'Weekend\\n', grouped_weekend_hr['traffic_volume'])\n"
   ]
  },
  {
   "cell_type": "code",
   "execution_count": 17,
   "metadata": {
    "hidden": true
   },
   "outputs": [
    {
     "data": {
      "image/png": "[encoded data removed]",
      "text/plain": [
       "<Figure size 1080x360 with 2 Axes>"
      ]
     },
     "metadata": {
      "needs_background": "light"
     },
     "output_type": "display_data"
    }
   ],
   "source": [
    "# plotting the lineplots\n",
    "plt.figure(figsize=(15, 5))\n",
    "plt.subplot(1,2,1)\n",
    "grouped_business_hr['traffic_volume'].plot()\n",
    "plt.title('Traffic volume on business days')\n",
    "plt.xlabel('hour')\n",
    "plt.xticks(range(7, 19))\n",
    "plt.ylim(1500, 6500)\n",
    "\n",
    "plt.subplot(1,2,2)\n",
    "grouped_weekend_hr['traffic_volume'].plot()\n",
    "plt.title('Traffic volume on the weekend')\n",
    "plt.xlabel('hour')\n",
    "plt.xticks(range(7, 19))\n",
    "plt.ylim(1500, 6500)\n",
    "plt.show()"
   ]
  },
  {
   "cell_type": "markdown",
   "metadata": {
    "hidden": true
   },
   "source": [
    "The graphs shows us that during the business days, the rush hours are 7 and 16, being the moments with the greater traffic volumes. That changes in the weekend, when the hours with greater vehicle volumes are after 11 or 12 o'clock.  \n",
    "After this findings, we're going to look at the weather indicators, to see how the change in the weather influence how heavy the traffic is."
   ]
  },
  {
   "cell_type": "markdown",
   "metadata": {
    "heading_collapsed": true
   },
   "source": [
    "## 7 Finding weather indicators for heavy traffic\n",
    "In this section, we are going to look at the columns related to weather: `temp`, `rain_1h`, `snow_1h`, `clouds_all`, `weather_main`, `weather_description`. To start, let's look at the correlation between the numerical columns."
   ]
  },
  {
   "cell_type": "code",
   "execution_count": 18,
   "metadata": {
    "hidden": true
   },
   "outputs": [
    {
     "data": {
      "text/html": [
       "<div>\n",
       "<style scoped>\n",
       "    .dataframe tbody tr th:only-of-type {\n",
       "        vertical-align: middle;\n",
       "    }\n",
       "\n",
       "    .dataframe tbody tr th {\n",
       "        vertical-align: top;\n",
       "    }\n",
       "\n",
       "    .dataframe thead th {\n",
       "        text-align: right;\n",
       "    }\n",
       "</style>\n",
       "<table border=\"1\" class=\"dataframe\">\n",
       "  <thead>\n",
       "    <tr style=\"text-align: right;\">\n",
       "      <th></th>\n",
       "      <th>holiday</th>\n",
       "      <th>temp</th>\n",
       "      <th>rain_1h</th>\n",
       "      <th>snow_1h</th>\n",
       "      <th>clouds_all</th>\n",
       "      <th>weather_main</th>\n",
       "      <th>weather_description</th>\n",
       "      <th>date_time</th>\n",
       "      <th>traffic_volume</th>\n",
       "    </tr>\n",
       "  </thead>\n",
       "  <tbody>\n",
       "    <tr>\n",
       "      <th>0</th>\n",
       "      <td>None</td>\n",
       "      <td>288.28</td>\n",
       "      <td>0.0</td>\n",
       "      <td>0.0</td>\n",
       "      <td>40</td>\n",
       "      <td>Clouds</td>\n",
       "      <td>scattered clouds</td>\n",
       "      <td>2012-10-02 09:00:00</td>\n",
       "      <td>5545</td>\n",
       "    </tr>\n",
       "    <tr>\n",
       "      <th>1</th>\n",
       "      <td>None</td>\n",
       "      <td>289.36</td>\n",
       "      <td>0.0</td>\n",
       "      <td>0.0</td>\n",
       "      <td>75</td>\n",
       "      <td>Clouds</td>\n",
       "      <td>broken clouds</td>\n",
       "      <td>2012-10-02 10:00:00</td>\n",
       "      <td>4516</td>\n",
       "    </tr>\n",
       "    <tr>\n",
       "      <th>2</th>\n",
       "      <td>None</td>\n",
       "      <td>289.58</td>\n",
       "      <td>0.0</td>\n",
       "      <td>0.0</td>\n",
       "      <td>90</td>\n",
       "      <td>Clouds</td>\n",
       "      <td>overcast clouds</td>\n",
       "      <td>2012-10-02 11:00:00</td>\n",
       "      <td>4767</td>\n",
       "    </tr>\n",
       "    <tr>\n",
       "      <th>3</th>\n",
       "      <td>None</td>\n",
       "      <td>290.13</td>\n",
       "      <td>0.0</td>\n",
       "      <td>0.0</td>\n",
       "      <td>90</td>\n",
       "      <td>Clouds</td>\n",
       "      <td>overcast clouds</td>\n",
       "      <td>2012-10-02 12:00:00</td>\n",
       "      <td>5026</td>\n",
       "    </tr>\n",
       "    <tr>\n",
       "      <th>4</th>\n",
       "      <td>None</td>\n",
       "      <td>291.14</td>\n",
       "      <td>0.0</td>\n",
       "      <td>0.0</td>\n",
       "      <td>75</td>\n",
       "      <td>Clouds</td>\n",
       "      <td>broken clouds</td>\n",
       "      <td>2012-10-02 13:00:00</td>\n",
       "      <td>4918</td>\n",
       "    </tr>\n",
       "  </tbody>\n",
       "</table>\n",
       "</div>"
      ],
      "text/plain": [
       "  holiday    temp  rain_1h  snow_1h  clouds_all weather_main  \\\n",
       "0    None  288.28      0.0      0.0          40       Clouds   \n",
       "1    None  289.36      0.0      0.0          75       Clouds   \n",
       "2    None  289.58      0.0      0.0          90       Clouds   \n",
       "3    None  290.13      0.0      0.0          90       Clouds   \n",
       "4    None  291.14      0.0      0.0          75       Clouds   \n",
       "\n",
       "  weather_description           date_time  traffic_volume  \n",
       "0    scattered clouds 2012-10-02 09:00:00            5545  \n",
       "1       broken clouds 2012-10-02 10:00:00            4516  \n",
       "2     overcast clouds 2012-10-02 11:00:00            4767  \n",
       "3     overcast clouds 2012-10-02 12:00:00            5026  \n",
       "4       broken clouds 2012-10-02 13:00:00            4918  "
      ]
     },
     "execution_count": 18,
     "metadata": {},
     "output_type": "execute_result"
    }
   ],
   "source": [
    "# creating the dataset with the weather relevant columns\n",
    "weather = daytime.drop(['month', 'day_of_week'], axis=1)\n",
    "weather.head()"
   ]
  },
  {
   "cell_type": "code",
   "execution_count": 19,
   "metadata": {
    "hidden": true
   },
   "outputs": [
    {
     "data": {
      "text/html": [
       "<div>\n",
       "<style scoped>\n",
       "    .dataframe tbody tr th:only-of-type {\n",
       "        vertical-align: middle;\n",
       "    }\n",
       "\n",
       "    .dataframe tbody tr th {\n",
       "        vertical-align: top;\n",
       "    }\n",
       "\n",
       "    .dataframe thead th {\n",
       "        text-align: right;\n",
       "    }\n",
       "</style>\n",
       "<table border=\"1\" class=\"dataframe\">\n",
       "  <thead>\n",
       "    <tr style=\"text-align: right;\">\n",
       "      <th></th>\n",
       "      <th>temp</th>\n",
       "      <th>rain_1h</th>\n",
       "      <th>snow_1h</th>\n",
       "      <th>clouds_all</th>\n",
       "      <th>traffic_volume</th>\n",
       "    </tr>\n",
       "  </thead>\n",
       "  <tbody>\n",
       "    <tr>\n",
       "      <th>temp</th>\n",
       "      <td>1.000000</td>\n",
       "      <td>0.010815</td>\n",
       "      <td>-0.019286</td>\n",
       "      <td>-0.135519</td>\n",
       "      <td>0.128317</td>\n",
       "    </tr>\n",
       "    <tr>\n",
       "      <th>rain_1h</th>\n",
       "      <td>0.010815</td>\n",
       "      <td>1.000000</td>\n",
       "      <td>-0.000091</td>\n",
       "      <td>0.004993</td>\n",
       "      <td>0.003697</td>\n",
       "    </tr>\n",
       "    <tr>\n",
       "      <th>snow_1h</th>\n",
       "      <td>-0.019286</td>\n",
       "      <td>-0.000091</td>\n",
       "      <td>1.000000</td>\n",
       "      <td>0.027721</td>\n",
       "      <td>0.001265</td>\n",
       "    </tr>\n",
       "    <tr>\n",
       "      <th>clouds_all</th>\n",
       "      <td>-0.135519</td>\n",
       "      <td>0.004993</td>\n",
       "      <td>0.027721</td>\n",
       "      <td>1.000000</td>\n",
       "      <td>-0.032932</td>\n",
       "    </tr>\n",
       "    <tr>\n",
       "      <th>traffic_volume</th>\n",
       "      <td>0.128317</td>\n",
       "      <td>0.003697</td>\n",
       "      <td>0.001265</td>\n",
       "      <td>-0.032932</td>\n",
       "      <td>1.000000</td>\n",
       "    </tr>\n",
       "  </tbody>\n",
       "</table>\n",
       "</div>"
      ],
      "text/plain": [
       "                    temp   rain_1h   snow_1h  clouds_all  traffic_volume\n",
       "temp            1.000000  0.010815 -0.019286   -0.135519        0.128317\n",
       "rain_1h         0.010815  1.000000 -0.000091    0.004993        0.003697\n",
       "snow_1h        -0.019286 -0.000091  1.000000    0.027721        0.001265\n",
       "clouds_all     -0.135519  0.004993  0.027721    1.000000       -0.032932\n",
       "traffic_volume  0.128317  0.003697  0.001265   -0.032932        1.000000"
      ]
     },
     "execution_count": 19,
     "metadata": {},
     "output_type": "execute_result"
    }
   ],
   "source": [
    "# calculating the correlation between the numerical columns\n",
    "weather.corr()"
   ]
  },
  {
   "cell_type": "markdown",
   "metadata": {
    "hidden": true
   },
   "source": [
    "To make the information easier to see, let's plot a quick bar plot."
   ]
  },
  {
   "cell_type": "code",
   "execution_count": 20,
   "metadata": {
    "hidden": true
   },
   "outputs": [
    {
     "data": {
      "image/png": "[encoded data removed]",
      "text/plain": [
       "<Figure size 432x288 with 1 Axes>"
      ]
     },
     "metadata": {
      "needs_background": "light"
     },
     "output_type": "display_data"
    }
   ],
   "source": [
    "# bar plot of correlation\n",
    "weather.corr()['traffic_volume'].drop('traffic_volume', axis=0).plot.bar()\n",
    "plt.ylim(-0.15, 0.15)\n",
    "plt.xticks(rotation=30)\n",
    "plt.title('weather and traffic volume correlations')\n",
    "plt.show()"
   ]
  },
  {
   "cell_type": "markdown",
   "metadata": {
    "hidden": true
   },
   "source": [
    "As we can see above, the only column that could have some correlation with the traffic volume is `temp`, with a 0.128 value. But since it is below 0.25, we cannot say that there is any relationship.  \n",
    "\n",
    "With that in mind, we can say that there are no reliable indicators between `temp`, `rain_1h`, `snow_1h` or `clouds_all`.  Moving on, let's check the categorical columns to see if they are good heavy traffic indicators.  \n",
    "\n",
    "We are going to start aggregating the unique values by mean and plotting a graph to show our findings for both columns: `weather_main` and `weather_description`."
   ]
  },
  {
   "cell_type": "code",
   "execution_count": 21,
   "metadata": {
    "hidden": true
   },
   "outputs": [
    {
     "data": {
      "image/png": "[encoded data removed]",
      "text/plain": [
       "<Figure size 1080x360 with 1 Axes>"
      ]
     },
     "metadata": {
      "needs_background": "light"
     },
     "output_type": "display_data"
    }
   ],
   "source": [
    "# grouping the information\n",
    "by_weather_main = daytime.groupby('weather_main').mean()\n",
    "by_weather_description = daytime.groupby('weather_description').mean()\n",
    "\n",
    "# plotting the main weather graph\n",
    "plt.figure(figsize=(15,5))\n",
    "by_weather_main['traffic_volume'].plot.bar()\n",
    "plt.title('Main weather and traffic volume', size=15)\n",
    "plt.xticks(size=12, rotation=30)\n",
    "plt.xlabel(\"\")\n",
    "plt.show()"
   ]
  },
  {
   "cell_type": "markdown",
   "metadata": {
    "hidden": true
   },
   "source": [
    "This graph shows us that the main weather doesn't tell us much, bellow, we are going to take a better look into the weather descriptions."
   ]
  },
  {
   "cell_type": "code",
   "execution_count": 22,
   "metadata": {
    "hidden": true
   },
   "outputs": [
    {
     "data": {
      "image/png": "[encoded data removed]",
      "text/plain": [
       "<Figure size 1440x1080 with 1 Axes>"
      ]
     },
     "metadata": {
      "needs_background": "light"
     },
     "output_type": "display_data"
    }
   ],
   "source": [
    "# plotting the weather description graph\n",
    "plt.figure(figsize=(20,15))\n",
    "by_weather_description['traffic_volume'].plot.barh()\n",
    "plt.title('Description of weather and impact in traffic volume', size=18)\n",
    "plt.yticks(size=14)\n",
    "plt.ylabel(\"\")\n",
    "plt.show()"
   ]
  },
  {
   "cell_type": "markdown",
   "metadata": {
    "hidden": true
   },
   "source": [
    "In the graph above, we can see that there are only three weather descriptions that appear in traffic volumes higher than 5000: `proximity thunderstorm with drizzle`, `shower snow`  and `light rain and snow`. After it we can say that they can be interesting heavier traffic indicator, since they show a higher average amount of vehicles in the highway."
   ]
  },
  {
   "cell_type": "markdown",
   "metadata": {},
   "source": [
    "## 8 Checking out nighttime traffic\n",
    "To do a comparison, let's take a look at our nighttime data to see how different if behaves."
   ]
  },
  {
   "cell_type": "code",
   "execution_count": 23,
   "metadata": {
    "scrolled": true
   },
   "outputs": [
    {
     "data": {
      "image/png": "[encoded data removed]",
      "text/plain": [
       "<Figure size 432x288 with 1 Axes>"
      ]
     },
     "metadata": {
      "needs_background": "light"
     },
     "output_type": "display_data"
    }
   ],
   "source": [
    "# creating the 'month' comparison\n",
    "nighttime['month'] = nighttime['date_time'].dt.month\n",
    "\n",
    "# grouping the information by average\n",
    "grouped_month = nighttime.groupby('month').mean()\n",
    "\n",
    "# plotting a line plot\n",
    "plt.plot(grouped_month['traffic_volume'])\n",
    "plt.title('Traffic volume per month')\n",
    "plt.xlabel('month')\n",
    "plt.xticks(range(1,13))\n",
    "plt.show()"
   ]
  },
  {
   "cell_type": "markdown",
   "metadata": {},
   "source": [
    "Looking at the graph above, we can see that the winter months also show a significant drop in the traffic volume. Being almost the same pattern as we saw in the daytime data."
   ]
  },
  {
   "cell_type": "code",
   "execution_count": 24,
   "metadata": {},
   "outputs": [
    {
     "data": {
      "image/png": "[encoded data removed]",
      "text/plain": [
       "<Figure size 432x288 with 1 Axes>"
      ]
     },
     "metadata": {
      "needs_background": "light"
     },
     "output_type": "display_data"
    }
   ],
   "source": [
    "# grouping from 0 (monday) to 6 (sunday)\n",
    "nighttime['day_of_week'] = nighttime['date_time'].dt.dayofweek\n",
    "grouped_dayofweek = nighttime.groupby(nighttime['day_of_week']).mean()\n",
    "\n",
    "# generating the line plot\n",
    "grouped_dayofweek['traffic_volume'].plot()\n",
    "plt.title(\"Traffic volume per day of the week\")\n",
    "labels = ['Monday', 'Tuesday', 'Wednesday', 'Thursday', 'Friday', 'Saturday', 'Sunday']\n",
    "plt.xticks(grouped_dayofweek.index, labels, rotation=30)\n",
    "plt.xlabel('')\n",
    "plt.ylabel('traffic volume')\n",
    "plt.show()"
   ]
  },
  {
   "cell_type": "markdown",
   "metadata": {},
   "source": [
    "This graph shows us that the traffic volume in the workdays is also heavier than in the weekends, even in nighttime."
   ]
  },
  {
   "cell_type": "code",
   "execution_count": 25,
   "metadata": {},
   "outputs": [
    {
     "data": {
      "image/png": "[encoded data removed]",
      "text/plain": [
       "<Figure size 1080x360 with 2 Axes>"
      ]
     },
     "metadata": {
      "needs_background": "light"
     },
     "output_type": "display_data"
    }
   ],
   "source": [
    "# separating the datasets\n",
    "business_days = nighttime.copy()[nighttime['date_time'].dt.dayofweek <= 4]\n",
    "weekend_days = nighttime.copy()[nighttime['date_time'].dt.dayofweek >= 5]\n",
    "\n",
    "# grouping the data by hour\n",
    "business_days['hour'] = business_days['date_time'].dt.hour\n",
    "weekend_days['hour'] = weekend_days['date_time'].dt.hour\n",
    "\n",
    "grouped_business_hr = business_days.groupby('hour').mean()\n",
    "grouped_weekend_hr = weekend_days.groupby('hour').mean()\n",
    "\n",
    "# plotting the lineplots\n",
    "plt.figure(figsize=(15, 5))\n",
    "plt.subplot(1,2,1)\n",
    "grouped_business_hr['traffic_volume'].plot.bar()\n",
    "plt.title('Traffic volume on business days in the nighttime')\n",
    "plt.xlabel('hour')\n",
    "plt.ylim(50, 5500)\n",
    "\n",
    "plt.subplot(1,2,2)\n",
    "grouped_weekend_hr['traffic_volume'].plot.bar()\n",
    "plt.title('Traffic volume on the weekend in the nighttime')\n",
    "plt.xlabel('hour')\n",
    "plt.ylim(50, 5500)\n",
    "plt.show()"
   ]
  },
  {
   "cell_type": "markdown",
   "metadata": {},
   "source": [
    "## 9 Conclusions"
   ]
  },
  {
   "cell_type": "markdown",
   "metadata": {},
   "source": [
    "Through our project we saw that the traffic can change in different moments of the year, week and the day. Looking at our daytime data, we can say that:\n",
    "* The traffic volume is usually heavier in warm and dry months, from March to June and August to October;  \n",
    "* Is is also heavier in the business days;  \n",
    "* Another conclusion is that the rush hours are 7 and 16 o'clock, having significantly more vehicles in the highway.\n",
    "\n",
    "And also that it can be heavier when the weather presents itself as `proximity thunderstorm with drizzle`, `shower snow`  and `light rain and snow`, showing how the weather can influence how many cars will be on the road.\n",
    "\n",
    "Our **nighttime data**, on the other hand, shows us that throughout the year the traffic volume changes almost like the daytime data, showing the same winter patters. We can see the same thing in the week data, where the traffic volume is larger in the workdays.\n",
    "\n",
    "When we look at the nighttime traffic volume in different hours of the nights, we can see that it is higher in the beginning of the day, probably people going early to work or school, and a little bit higher in the beginning of the night, probably still a little bit of rush hour.\n",
    "\n",
    "After the analysis we did, we can see that beyond the grater amount of traffic in different moments of the day, week and year, the weather plays an important role, probably saying something about how much people leave their houses in specific weather or about the conditions of the highway. "
   ]
  }
 ],
 "metadata": {
  "kernelspec": {
   "display_name": "Python 3",
   "language": "python",
   "name": "python3"
  },
  "language_info": {
   "codemirror_mode": {
    "name": "ipython",
    "version": 3
   },
   "file_extension": ".py",
   "mimetype": "text/x-python",
   "name": "python",
   "nbconvert_exporter": "python",
   "pygments_lexer": "ipython3",
   "version": "3.8.10"
  },
  "toc": {
   "base_numbering": 1,
   "nav_menu": {},
   "number_sections": false,
   "sideBar": true,
   "skip_h1_title": false,
   "title_cell": "Table of Contents",
   "title_sidebar": "Contents",
   "toc_cell": false,
   "toc_position": {},
   "toc_section_display": true,
   "toc_window_display": false
  }
 },
 "nbformat": 4,
 "nbformat_minor": 4
}
